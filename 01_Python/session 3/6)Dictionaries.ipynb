{
 "cells": [
  {
   "cell_type": "code",
   "execution_count": 1,
   "id": "ed07c8a2",
   "metadata": {},
   "outputs": [],
   "source": [
    "dict1 = {\n",
    "  \"name\"  : \"Shridhar\",\n",
    "  \"rollno\": 5,\n",
    "  \"PASS\"  : True\n",
    "}"
   ]
  },
  {
   "cell_type": "code",
   "execution_count": 2,
   "id": "40cde62c",
   "metadata": {},
   "outputs": [
    {
     "data": {
      "text/plain": [
       "{'name': 'Shridhar', 'rollno': 5, 'PASS': True}"
      ]
     },
     "execution_count": 2,
     "metadata": {},
     "output_type": "execute_result"
    }
   ],
   "source": [
    "dict1"
   ]
  },
  {
   "cell_type": "code",
   "execution_count": 3,
   "id": "a5467d6e",
   "metadata": {},
   "outputs": [],
   "source": [
    "dict2 = {\n",
    "    \"name\" : 'xyz',\n",
    "    \"name\" : 'abc'\n",
    "}"
   ]
  },
  {
   "cell_type": "code",
   "execution_count": 4,
   "id": "c31894db",
   "metadata": {},
   "outputs": [
    {
     "data": {
      "text/plain": [
       "{'name': 'abc'}"
      ]
     },
     "execution_count": 4,
     "metadata": {},
     "output_type": "execute_result"
    }
   ],
   "source": [
    "dict2"
   ]
  },
  {
   "cell_type": "code",
   "execution_count": 5,
   "id": "8b0228d4",
   "metadata": {},
   "outputs": [
    {
     "data": {
      "text/plain": [
       "'Shridhar'"
      ]
     },
     "execution_count": 5,
     "metadata": {},
     "output_type": "execute_result"
    }
   ],
   "source": [
    "dict1['name']"
   ]
  },
  {
   "cell_type": "code",
   "execution_count": 6,
   "id": "31f53d16",
   "metadata": {},
   "outputs": [],
   "source": [
    "dict3 = {\n",
    "    'sports_id'   : 1,\n",
    "    \"sports_name\" : 'cricket',\n",
    "    'score1'      : [20,40,70,2],\n",
    "    'score2'      : (1,2,3,4,5),\n",
    "    'score3'      : {10,20,30,40,50}\n",
    "}"
   ]
  },
  {
   "cell_type": "code",
   "execution_count": 7,
   "id": "c9851454",
   "metadata": {},
   "outputs": [
    {
     "data": {
      "text/plain": [
       "{'sports_id': 1,\n",
       " 'sports_name': 'cricket',\n",
       " 'score1': [20, 40, 70, 2],\n",
       " 'score2': (1, 2, 3, 4, 5),\n",
       " 'score3': {10, 20, 30, 40, 50}}"
      ]
     },
     "execution_count": 7,
     "metadata": {},
     "output_type": "execute_result"
    }
   ],
   "source": [
    "dict3"
   ]
  },
  {
   "cell_type": "code",
   "execution_count": 8,
   "id": "d3e8e328",
   "metadata": {},
   "outputs": [],
   "source": [
    "dict4 = dict(product_id = 1, product_name = 'xyz', product_price = 999)"
   ]
  },
  {
   "cell_type": "code",
   "execution_count": 9,
   "id": "59d513c3",
   "metadata": {},
   "outputs": [
    {
     "data": {
      "text/plain": [
       "{'product_id': 1, 'product_name': 'xyz', 'product_price': 999}"
      ]
     },
     "execution_count": 9,
     "metadata": {},
     "output_type": "execute_result"
    }
   ],
   "source": [
    "dict4"
   ]
  },
  {
   "cell_type": "code",
   "execution_count": 10,
   "id": "b764f500",
   "metadata": {},
   "outputs": [
    {
     "data": {
      "text/plain": [
       "dict_keys(['sports_id', 'sports_name', 'score1', 'score2', 'score3'])"
      ]
     },
     "execution_count": 10,
     "metadata": {},
     "output_type": "execute_result"
    }
   ],
   "source": [
    "dict3.keys()"
   ]
  },
  {
   "cell_type": "code",
   "execution_count": 11,
   "id": "dec9e679",
   "metadata": {},
   "outputs": [],
   "source": [
    "dict3['win'] = True"
   ]
  },
  {
   "cell_type": "code",
   "execution_count": 12,
   "id": "21fdc9f2",
   "metadata": {},
   "outputs": [
    {
     "data": {
      "text/plain": [
       "dict_keys(['sports_id', 'sports_name', 'score1', 'score2', 'score3', 'win'])"
      ]
     },
     "execution_count": 12,
     "metadata": {},
     "output_type": "execute_result"
    }
   ],
   "source": [
    "dict3.keys()"
   ]
  },
  {
   "cell_type": "code",
   "execution_count": 13,
   "id": "9459138f",
   "metadata": {},
   "outputs": [
    {
     "data": {
      "text/plain": [
       "dict_values([1, 'cricket', [20, 40, 70, 2], (1, 2, 3, 4, 5), {50, 20, 40, 10, 30}, True])"
      ]
     },
     "execution_count": 13,
     "metadata": {},
     "output_type": "execute_result"
    }
   ],
   "source": [
    "dict3.values()"
   ]
  },
  {
   "cell_type": "code",
   "execution_count": 14,
   "id": "5c192025",
   "metadata": {},
   "outputs": [],
   "source": [
    "dict3['win'] = False"
   ]
  },
  {
   "cell_type": "code",
   "execution_count": 15,
   "id": "5cf6ac32",
   "metadata": {},
   "outputs": [
    {
     "data": {
      "text/plain": [
       "dict_values([1, 'cricket', [20, 40, 70, 2], (1, 2, 3, 4, 5), {50, 20, 40, 10, 30}, False])"
      ]
     },
     "execution_count": 15,
     "metadata": {},
     "output_type": "execute_result"
    }
   ],
   "source": [
    "dict3.values()"
   ]
  },
  {
   "cell_type": "code",
   "execution_count": 16,
   "id": "313b3904",
   "metadata": {},
   "outputs": [
    {
     "data": {
      "text/plain": [
       "dict_items([('sports_id', 1), ('sports_name', 'cricket'), ('score1', [20, 40, 70, 2]), ('score2', (1, 2, 3, 4, 5)), ('score3', {50, 20, 40, 10, 30}), ('win', False)])"
      ]
     },
     "execution_count": 16,
     "metadata": {},
     "output_type": "execute_result"
    }
   ],
   "source": [
    "dict3.items()"
   ]
  },
  {
   "cell_type": "code",
   "execution_count": 17,
   "id": "95f0f56f",
   "metadata": {},
   "outputs": [],
   "source": [
    "dict3.update({'win' : True})"
   ]
  },
  {
   "cell_type": "code",
   "execution_count": 18,
   "id": "7c952e15",
   "metadata": {},
   "outputs": [
    {
     "data": {
      "text/plain": [
       "{'sports_id': 1,\n",
       " 'sports_name': 'cricket',\n",
       " 'score1': [20, 40, 70, 2],\n",
       " 'score2': (1, 2, 3, 4, 5),\n",
       " 'score3': {10, 20, 30, 40, 50},\n",
       " 'win': True}"
      ]
     },
     "execution_count": 18,
     "metadata": {},
     "output_type": "execute_result"
    }
   ],
   "source": [
    "dict4 = dict3.copy()\n",
    "dict4"
   ]
  },
  {
   "cell_type": "code",
   "execution_count": 19,
   "id": "53f8fb79",
   "metadata": {},
   "outputs": [
    {
     "data": {
      "text/plain": [
       "{'sports_id': 1,\n",
       " 'sports_name': 'cricket',\n",
       " 'score1': [20, 40, 70, 2],\n",
       " 'score2': (1, 2, 3, 4, 5),\n",
       " 'score3': {10, 20, 30, 40, 50},\n",
       " 'win': True}"
      ]
     },
     "execution_count": 19,
     "metadata": {},
     "output_type": "execute_result"
    }
   ],
   "source": [
    "dict3"
   ]
  },
  {
   "cell_type": "code",
   "execution_count": 20,
   "id": "9a4de746",
   "metadata": {},
   "outputs": [
    {
     "data": {
      "text/plain": [
       "True"
      ]
     },
     "execution_count": 20,
     "metadata": {},
     "output_type": "execute_result"
    }
   ],
   "source": [
    "dict3.pop('win')"
   ]
  },
  {
   "cell_type": "code",
   "execution_count": 21,
   "id": "fe9d2010",
   "metadata": {},
   "outputs": [
    {
     "data": {
      "text/plain": [
       "{'sports_id': 1,\n",
       " 'sports_name': 'cricket',\n",
       " 'score1': [20, 40, 70, 2],\n",
       " 'score2': (1, 2, 3, 4, 5),\n",
       " 'score3': {10, 20, 30, 40, 50}}"
      ]
     },
     "execution_count": 21,
     "metadata": {},
     "output_type": "execute_result"
    }
   ],
   "source": [
    "dict3"
   ]
  },
  {
   "cell_type": "code",
   "execution_count": 22,
   "id": "2486f959",
   "metadata": {},
   "outputs": [
    {
     "data": {
      "text/plain": [
       "('score3', {10, 20, 30, 40, 50})"
      ]
     },
     "execution_count": 22,
     "metadata": {},
     "output_type": "execute_result"
    }
   ],
   "source": [
    "dict3.popitem()"
   ]
  },
  {
   "cell_type": "code",
   "execution_count": 23,
   "id": "1aa8dae8",
   "metadata": {},
   "outputs": [
    {
     "data": {
      "text/plain": [
       "{'sports_id': 1,\n",
       " 'sports_name': 'cricket',\n",
       " 'score1': [20, 40, 70, 2],\n",
       " 'score2': (1, 2, 3, 4, 5)}"
      ]
     },
     "execution_count": 23,
     "metadata": {},
     "output_type": "execute_result"
    }
   ],
   "source": [
    "dict3"
   ]
  },
  {
   "cell_type": "code",
   "execution_count": 24,
   "id": "36b6fb3a",
   "metadata": {},
   "outputs": [],
   "source": [
    "del dict3['score2']"
   ]
  },
  {
   "cell_type": "code",
   "execution_count": 25,
   "id": "5cbfb105",
   "metadata": {},
   "outputs": [
    {
     "data": {
      "text/plain": [
       "{'sports_id': 1, 'sports_name': 'cricket', 'score1': [20, 40, 70, 2]}"
      ]
     },
     "execution_count": 25,
     "metadata": {},
     "output_type": "execute_result"
    }
   ],
   "source": [
    "dict3"
   ]
  },
  {
   "cell_type": "code",
   "execution_count": 26,
   "id": "2b99f73e",
   "metadata": {},
   "outputs": [],
   "source": [
    "dict3.clear()"
   ]
  },
  {
   "cell_type": "code",
   "execution_count": 27,
   "id": "c388faac",
   "metadata": {},
   "outputs": [
    {
     "data": {
      "text/plain": [
       "{}"
      ]
     },
     "execution_count": 27,
     "metadata": {},
     "output_type": "execute_result"
    }
   ],
   "source": [
    "dict3"
   ]
  },
  {
   "cell_type": "code",
   "execution_count": 28,
   "id": "71718d42",
   "metadata": {},
   "outputs": [],
   "source": [
    "del dict3"
   ]
  },
  {
   "cell_type": "code",
   "execution_count": 29,
   "id": "af2e8693",
   "metadata": {},
   "outputs": [
    {
     "ename": "NameError",
     "evalue": "name 'dict3' is not defined",
     "output_type": "error",
     "traceback": [
      "\u001b[0;31m---------------------------------------------------------------------------\u001b[0m",
      "\u001b[0;31mNameError\u001b[0m                                 Traceback (most recent call last)",
      "\u001b[0;32m/var/folders/m0/4t6ggwz51774ll_46v6qgz3h0000gn/T/ipykernel_26725/2084836329.py\u001b[0m in \u001b[0;36m<module>\u001b[0;34m\u001b[0m\n\u001b[0;32m----> 1\u001b[0;31m \u001b[0mdict3\u001b[0m\u001b[0;34m\u001b[0m\u001b[0;34m\u001b[0m\u001b[0m\n\u001b[0m",
      "\u001b[0;31mNameError\u001b[0m: name 'dict3' is not defined"
     ]
    }
   ],
   "source": [
    "dict3"
   ]
  },
  {
   "cell_type": "code",
   "execution_count": null,
   "id": "03058de6",
   "metadata": {},
   "outputs": [],
   "source": []
  }
 ],
 "metadata": {
  "kernelspec": {
   "display_name": "Python 3 (ipykernel)",
   "language": "python",
   "name": "python3"
  },
  "language_info": {
   "codemirror_mode": {
    "name": "ipython",
    "version": 3
   },
   "file_extension": ".py",
   "mimetype": "text/x-python",
   "name": "python",
   "nbconvert_exporter": "python",
   "pygments_lexer": "ipython3",
   "version": "3.9.13"
  }
 },
 "nbformat": 4,
 "nbformat_minor": 5
}
