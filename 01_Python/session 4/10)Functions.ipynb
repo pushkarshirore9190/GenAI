{
 "cells": [
  {
   "cell_type": "code",
   "execution_count": 1,
   "id": "0212892a",
   "metadata": {},
   "outputs": [],
   "source": [
    "def function1():\n",
    "  print(\"Hello and Welcome Dosto\")"
   ]
  },
  {
   "cell_type": "code",
   "execution_count": 2,
   "id": "8104a5a7",
   "metadata": {},
   "outputs": [
    {
     "name": "stdout",
     "output_type": "stream",
     "text": [
      "Hello and Welcome Dosto\n"
     ]
    }
   ],
   "source": [
    "function1()"
   ]
  },
  {
   "cell_type": "code",
   "execution_count": 3,
   "id": "5f098afa",
   "metadata": {},
   "outputs": [
    {
     "name": "stdout",
     "output_type": "stream",
     "text": [
      "Hello and Welcome Dosto to dsa course\n"
     ]
    }
   ],
   "source": [
    "def function2(plus):\n",
    "  print(\"Hello and Welcome Dosto\",plus)\n",
    "\n",
    "function2('to dsa course')"
   ]
  },
  {
   "cell_type": "code",
   "execution_count": 4,
   "id": "44a6cf0d",
   "metadata": {},
   "outputs": [
    {
     "name": "stdout",
     "output_type": "stream",
     "text": [
      "Hello and Welcome Dostoto 5 minutes engineering\n"
     ]
    }
   ],
   "source": [
    "def function2(plus):\n",
    "  print(\"Hello and Welcome Dosto\" + plus)\n",
    "\n",
    "function2('to 5 minutes engineering')"
   ]
  },
  {
   "cell_type": "code",
   "execution_count": 5,
   "id": "557068ad",
   "metadata": {},
   "outputs": [
    {
     "name": "stdout",
     "output_type": "stream",
     "text": [
      "shridhar mankar\n"
     ]
    }
   ],
   "source": [
    "def name(fname,lname):\n",
    "  print(fname + \" \" + lname)\n",
    "\n",
    "name('shridhar','mankar')"
   ]
  },
  {
   "cell_type": "code",
   "execution_count": 6,
   "id": "1cbf7479",
   "metadata": {},
   "outputs": [
    {
     "name": "stdout",
     "output_type": "stream",
     "text": [
      "rajendra mankar\n"
     ]
    }
   ],
   "source": [
    "name('rajendra','mankar')"
   ]
  },
  {
   "cell_type": "code",
   "execution_count": 3,
   "id": "c677966f",
   "metadata": {},
   "outputs": [
    {
     "name": "stdout",
     "output_type": "stream",
     "text": [
      "Hello and Welcome Dosto to 5 minutes engineering and to dsa course\n"
     ]
    }
   ],
   "source": [
    "def function2(*plus):\n",
    "  print(\"Hello and Welcome Dosto\", plus[0],plus[1],plus[2] )\n",
    "\n",
    "function2('to 5 minutes engineering','and','to dsa course')"
   ]
  },
  {
   "cell_type": "code",
   "execution_count": 8,
   "id": "826a7f28",
   "metadata": {},
   "outputs": [
    {
     "name": "stdout",
     "output_type": "stream",
     "text": [
      "shridhar mankar\n"
     ]
    }
   ],
   "source": [
    "def name1(lname,fname):\n",
    "  print(fname + \" \" + lname)\n",
    "\n",
    "name1(fname = 'shridhar',lname = 'mankar')"
   ]
  },
  {
   "cell_type": "code",
   "execution_count": 9,
   "id": "b12f9267",
   "metadata": {},
   "outputs": [
    {
     "name": "stdout",
     "output_type": "stream",
     "text": [
      "shridhar mankar\n"
     ]
    }
   ],
   "source": [
    "def name2(**student):\n",
    "  print(student['fname'] + \" \" + student['lname'])\n",
    "\n",
    "name2(fname = 'shridhar',lname = 'mankar')"
   ]
  },
  {
   "cell_type": "code",
   "execution_count": 10,
   "id": "043a214c",
   "metadata": {},
   "outputs": [
    {
     "name": "stdout",
     "output_type": "stream",
     "text": [
      "shridhar rajendra parth\n"
     ]
    }
   ],
   "source": [
    "def name3(**students):\n",
    "  print(students['s1'],students['s2'],students['s3'])\n",
    "\n",
    "name3(s1 = 'shridhar',s2 = 'rajendra',s3 = 'parth')"
   ]
  },
  {
   "cell_type": "code",
   "execution_count": 11,
   "id": "9520774e",
   "metadata": {},
   "outputs": [
    {
     "name": "stdout",
     "output_type": "stream",
     "text": [
      "Hello and Welcome Dosto to dsa course\n",
      "Hello and Welcome Dosto to 5 minutes engineering\n"
     ]
    }
   ],
   "source": [
    "def function2(plus = 'to 5 minutes engineering'):\n",
    "  print(\"Hello and Welcome Dosto\",plus)\n",
    "\n",
    "function2('to dsa course')\n",
    "function2()"
   ]
  },
  {
   "cell_type": "code",
   "execution_count": 12,
   "id": "51d60ed3",
   "metadata": {},
   "outputs": [
    {
     "data": {
      "text/plain": [
       "3"
      ]
     },
     "execution_count": 12,
     "metadata": {},
     "output_type": "execute_result"
    }
   ],
   "source": [
    "def sum_fun(a,b):\n",
    "  c = a+b\n",
    "  return c\n",
    "\n",
    "sum_fun(1,2)"
   ]
  },
  {
   "cell_type": "code",
   "execution_count": 13,
   "id": "c30c268f",
   "metadata": {
    "scrolled": true
   },
   "outputs": [
    {
     "data": {
      "text/plain": [
       "5"
      ]
     },
     "execution_count": 13,
     "metadata": {},
     "output_type": "execute_result"
    }
   ],
   "source": [
    "sum_fun(2,3)"
   ]
  },
  {
   "cell_type": "code",
   "execution_count": null,
   "id": "e886a313",
   "metadata": {},
   "outputs": [],
   "source": []
  }
 ],
 "metadata": {
  "kernelspec": {
   "display_name": "Python 3 (ipykernel)",
   "language": "python",
   "name": "python3"
  },
  "language_info": {
   "codemirror_mode": {
    "name": "ipython",
    "version": 3
   },
   "file_extension": ".py",
   "mimetype": "text/x-python",
   "name": "python",
   "nbconvert_exporter": "python",
   "pygments_lexer": "ipython3",
   "version": "3.9.13"
  }
 },
 "nbformat": 4,
 "nbformat_minor": 5
}
