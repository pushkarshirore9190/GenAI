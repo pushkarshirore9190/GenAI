{
 "cells": [
  {
   "cell_type": "code",
   "execution_count": 1,
   "id": "921860fc-e4b3-4050-a212-7dc655928347",
   "metadata": {},
   "outputs": [
    {
     "name": "stdout",
     "output_type": "stream",
     "text": [
      "Collecting pypdf\n",
      "  Downloading pypdf-5.0.1-py3-none-any.whl.metadata (7.4 kB)\n",
      "Downloading pypdf-5.0.1-py3-none-any.whl (294 kB)\n",
      "Installing collected packages: pypdf\n",
      "Successfully installed pypdf-5.0.1\n",
      "Note: you may need to restart the kernel to use updated packages.\n"
     ]
    }
   ],
   "source": [
    "pip install pypdf"
   ]
  },
  {
   "cell_type": "code",
   "execution_count": 2,
   "id": "7cfa2476-d48c-410a-a8e7-2534ed77f492",
   "metadata": {},
   "outputs": [
    {
     "name": "stdout",
     "output_type": "stream",
     "text": [
      "Collecting docx2txtNote: you may need to restart the kernel to use updated packages.\n",
      "\n",
      "  Using cached docx2txt-0.8-py3-none-any.whl\n",
      "Installing collected packages: docx2txt\n",
      "Successfully installed docx2txt-0.8\n"
     ]
    }
   ],
   "source": [
    "pip install docx2txt"
   ]
  },
  {
   "cell_type": "code",
   "execution_count": 3,
   "id": "1f9193d8-0593-4561-ae9c-e81c359b1dfc",
   "metadata": {},
   "outputs": [
    {
     "name": "stdout",
     "output_type": "stream",
     "text": [
      "Collecting llama-index\n",
      "  Downloading llama_index-0.11.14-py3-none-any.whl.metadata (11 kB)\n",
      "Collecting llama-index-agent-openai<0.4.0,>=0.3.4 (from llama-index)\n",
      "  Downloading llama_index_agent_openai-0.3.4-py3-none-any.whl.metadata (728 bytes)\n",
      "Collecting llama-index-cli<0.4.0,>=0.3.1 (from llama-index)\n",
      "  Downloading llama_index_cli-0.3.1-py3-none-any.whl.metadata (1.5 kB)\n",
      "Collecting llama-index-core<0.12.0,>=0.11.14 (from llama-index)\n",
      "  Downloading llama_index_core-0.11.14-py3-none-any.whl.metadata (2.4 kB)\n",
      "Collecting llama-index-embeddings-openai<0.3.0,>=0.2.4 (from llama-index)\n",
      "  Downloading llama_index_embeddings_openai-0.2.5-py3-none-any.whl.metadata (686 bytes)\n",
      "Collecting llama-index-indices-managed-llama-cloud>=0.3.0 (from llama-index)\n",
      "  Downloading llama_index_indices_managed_llama_cloud-0.4.0-py3-none-any.whl.metadata (3.8 kB)\n",
      "Collecting llama-index-legacy<0.10.0,>=0.9.48 (from llama-index)\n",
      "  Downloading llama_index_legacy-0.9.48.post3-py3-none-any.whl.metadata (8.5 kB)\n",
      "Collecting llama-index-llms-openai<0.3.0,>=0.2.9 (from llama-index)\n",
      "  Downloading llama_index_llms_openai-0.2.9-py3-none-any.whl.metadata (648 bytes)\n",
      "Collecting llama-index-multi-modal-llms-openai<0.3.0,>=0.2.0 (from llama-index)\n",
      "  Downloading llama_index_multi_modal_llms_openai-0.2.1-py3-none-any.whl.metadata (728 bytes)\n",
      "Collecting llama-index-program-openai<0.3.0,>=0.2.0 (from llama-index)\n",
      "  Downloading llama_index_program_openai-0.2.0-py3-none-any.whl.metadata (766 bytes)\n",
      "Collecting llama-index-question-gen-openai<0.3.0,>=0.2.0 (from llama-index)\n",
      "  Downloading llama_index_question_gen_openai-0.2.0-py3-none-any.whl.metadata (785 bytes)\n",
      "Collecting llama-index-readers-file<0.3.0,>=0.2.0 (from llama-index)\n",
      "  Downloading llama_index_readers_file-0.2.2-py3-none-any.whl.metadata (5.4 kB)\n",
      "Collecting llama-index-readers-llama-parse>=0.3.0 (from llama-index)\n",
      "  Downloading llama_index_readers_llama_parse-0.3.0-py3-none-any.whl.metadata (3.5 kB)\n",
      "Collecting nltk>3.8.1 (from llama-index)\n",
      "  Downloading nltk-3.9.1-py3-none-any.whl.metadata (2.9 kB)\n",
      "Requirement already satisfied: openai>=1.14.0 in c:\\users\\admin\\anaconda3\\envs\\lang\\lib\\site-packages (from llama-index-agent-openai<0.4.0,>=0.3.4->llama-index) (1.50.2)\n",
      "Requirement already satisfied: PyYAML>=6.0.1 in c:\\users\\admin\\anaconda3\\envs\\lang\\lib\\site-packages (from llama-index-core<0.12.0,>=0.11.14->llama-index) (6.0.1)\n",
      "Requirement already satisfied: SQLAlchemy>=1.4.49 in c:\\users\\admin\\anaconda3\\envs\\lang\\lib\\site-packages (from SQLAlchemy[asyncio]>=1.4.49->llama-index-core<0.12.0,>=0.11.14->llama-index) (2.0.35)\n",
      "Requirement already satisfied: aiohttp<4.0.0,>=3.8.6 in c:\\users\\admin\\anaconda3\\envs\\lang\\lib\\site-packages (from llama-index-core<0.12.0,>=0.11.14->llama-index) (3.10.8)\n",
      "Requirement already satisfied: dataclasses-json in c:\\users\\admin\\anaconda3\\envs\\lang\\lib\\site-packages (from llama-index-core<0.12.0,>=0.11.14->llama-index) (0.6.7)\n",
      "Requirement already satisfied: deprecated>=1.2.9.3 in c:\\users\\admin\\anaconda3\\envs\\lang\\lib\\site-packages (from llama-index-core<0.12.0,>=0.11.14->llama-index) (1.2.14)\n",
      "Collecting dirtyjson<2.0.0,>=1.0.8 (from llama-index-core<0.12.0,>=0.11.14->llama-index)\n",
      "  Downloading dirtyjson-1.0.8-py3-none-any.whl.metadata (11 kB)\n",
      "Requirement already satisfied: fsspec>=2023.5.0 in c:\\users\\admin\\appdata\\roaming\\python\\python311\\site-packages (from llama-index-core<0.12.0,>=0.11.14->llama-index) (2024.5.0)\n",
      "Requirement already satisfied: httpx in c:\\users\\admin\\anaconda3\\envs\\lang\\lib\\site-packages (from llama-index-core<0.12.0,>=0.11.14->llama-index) (0.27.0)\n",
      "Requirement already satisfied: nest-asyncio<2.0.0,>=1.5.8 in c:\\users\\admin\\anaconda3\\envs\\lang\\lib\\site-packages (from llama-index-core<0.12.0,>=0.11.14->llama-index) (1.6.0)\n",
      "Requirement already satisfied: networkx>=3.0 in c:\\users\\admin\\anaconda3\\envs\\lang\\lib\\site-packages (from llama-index-core<0.12.0,>=0.11.14->llama-index) (3.3)\n",
      "Requirement already satisfied: numpy<2.0.0 in c:\\users\\admin\\anaconda3\\envs\\lang\\lib\\site-packages (from llama-index-core<0.12.0,>=0.11.14->llama-index) (1.26.4)\n",
      "Requirement already satisfied: pillow>=9.0.0 in c:\\users\\admin\\anaconda3\\envs\\lang\\lib\\site-packages (from llama-index-core<0.12.0,>=0.11.14->llama-index) (10.4.0)\n",
      "Requirement already satisfied: pydantic<3.0.0,>=2.7.0 in c:\\users\\admin\\anaconda3\\envs\\lang\\lib\\site-packages (from llama-index-core<0.12.0,>=0.11.14->llama-index) (2.9.2)\n",
      "Requirement already satisfied: requests>=2.31.0 in c:\\users\\admin\\anaconda3\\envs\\lang\\lib\\site-packages (from llama-index-core<0.12.0,>=0.11.14->llama-index) (2.32.3)\n",
      "Requirement already satisfied: tenacity!=8.4.0,<9.0.0,>=8.2.0 in c:\\users\\admin\\anaconda3\\envs\\lang\\lib\\site-packages (from llama-index-core<0.12.0,>=0.11.14->llama-index) (8.5.0)\n",
      "Requirement already satisfied: tiktoken>=0.3.3 in c:\\users\\admin\\anaconda3\\envs\\lang\\lib\\site-packages (from llama-index-core<0.12.0,>=0.11.14->llama-index) (0.7.0)\n",
      "Requirement already satisfied: tqdm<5.0.0,>=4.66.1 in c:\\users\\admin\\anaconda3\\envs\\lang\\lib\\site-packages (from llama-index-core<0.12.0,>=0.11.14->llama-index) (4.66.5)\n",
      "Requirement already satisfied: typing-extensions>=4.5.0 in c:\\users\\admin\\anaconda3\\envs\\lang\\lib\\site-packages (from llama-index-core<0.12.0,>=0.11.14->llama-index) (4.11.0)\n",
      "Requirement already satisfied: typing-inspect>=0.8.0 in c:\\users\\admin\\anaconda3\\envs\\lang\\lib\\site-packages (from llama-index-core<0.12.0,>=0.11.14->llama-index) (0.9.0)\n",
      "Requirement already satisfied: wrapt in c:\\users\\admin\\anaconda3\\envs\\lang\\lib\\site-packages (from llama-index-core<0.12.0,>=0.11.14->llama-index) (1.16.0)\n",
      "Collecting llama-cloud>=0.0.11 (from llama-index-indices-managed-llama-cloud>=0.3.0->llama-index)\n",
      "  Downloading llama_cloud-0.1.0-py3-none-any.whl.metadata (750 bytes)\n",
      "Requirement already satisfied: pandas in c:\\users\\admin\\anaconda3\\envs\\lang\\lib\\site-packages (from llama-index-legacy<0.10.0,>=0.9.48->llama-index) (2.2.3)\n",
      "Requirement already satisfied: beautifulsoup4<5.0.0,>=4.12.3 in c:\\users\\admin\\anaconda3\\envs\\lang\\lib\\site-packages (from llama-index-readers-file<0.3.0,>=0.2.0->llama-index) (4.12.3)\n",
      "Collecting pypdf<5.0.0,>=4.0.1 (from llama-index-readers-file<0.3.0,>=0.2.0->llama-index)\n",
      "  Downloading pypdf-4.3.1-py3-none-any.whl.metadata (7.4 kB)\n",
      "Collecting striprtf<0.0.27,>=0.0.26 (from llama-index-readers-file<0.3.0,>=0.2.0->llama-index)\n",
      "  Downloading striprtf-0.0.26-py3-none-any.whl.metadata (2.1 kB)\n",
      "Collecting llama-parse>=0.5.0 (from llama-index-readers-llama-parse>=0.3.0->llama-index)\n",
      "  Downloading llama_parse-0.5.6-py3-none-any.whl.metadata (6.1 kB)\n",
      "Requirement already satisfied: click in c:\\users\\admin\\anaconda3\\envs\\lang\\lib\\site-packages (from nltk>3.8.1->llama-index) (8.1.7)\n",
      "Requirement already satisfied: joblib in c:\\users\\admin\\anaconda3\\envs\\lang\\lib\\site-packages (from nltk>3.8.1->llama-index) (1.4.2)\n",
      "Requirement already satisfied: regex>=2021.8.3 in c:\\users\\admin\\anaconda3\\envs\\lang\\lib\\site-packages (from nltk>3.8.1->llama-index) (2024.9.11)\n",
      "Requirement already satisfied: aiohappyeyeballs>=2.3.0 in c:\\users\\admin\\anaconda3\\envs\\lang\\lib\\site-packages (from aiohttp<4.0.0,>=3.8.6->llama-index-core<0.12.0,>=0.11.14->llama-index) (2.4.2)\n",
      "Requirement already satisfied: aiosignal>=1.1.2 in c:\\users\\admin\\anaconda3\\envs\\lang\\lib\\site-packages (from aiohttp<4.0.0,>=3.8.6->llama-index-core<0.12.0,>=0.11.14->llama-index) (1.3.1)\n",
      "Requirement already satisfied: attrs>=17.3.0 in c:\\users\\admin\\anaconda3\\envs\\lang\\lib\\site-packages (from aiohttp<4.0.0,>=3.8.6->llama-index-core<0.12.0,>=0.11.14->llama-index) (23.1.0)\n",
      "Requirement already satisfied: frozenlist>=1.1.1 in c:\\users\\admin\\anaconda3\\envs\\lang\\lib\\site-packages (from aiohttp<4.0.0,>=3.8.6->llama-index-core<0.12.0,>=0.11.14->llama-index) (1.4.1)\n",
      "Requirement already satisfied: multidict<7.0,>=4.5 in c:\\users\\admin\\anaconda3\\envs\\lang\\lib\\site-packages (from aiohttp<4.0.0,>=3.8.6->llama-index-core<0.12.0,>=0.11.14->llama-index) (6.1.0)\n",
      "Requirement already satisfied: yarl<2.0,>=1.12.0 in c:\\users\\admin\\anaconda3\\envs\\lang\\lib\\site-packages (from aiohttp<4.0.0,>=3.8.6->llama-index-core<0.12.0,>=0.11.14->llama-index) (1.13.1)\n",
      "Requirement already satisfied: soupsieve>1.2 in c:\\users\\admin\\anaconda3\\envs\\lang\\lib\\site-packages (from beautifulsoup4<5.0.0,>=4.12.3->llama-index-readers-file<0.3.0,>=0.2.0->llama-index) (2.5)\n",
      "Requirement already satisfied: anyio in c:\\users\\admin\\anaconda3\\envs\\lang\\lib\\site-packages (from httpx->llama-index-core<0.12.0,>=0.11.14->llama-index) (4.2.0)\n",
      "Requirement already satisfied: certifi in c:\\users\\admin\\anaconda3\\envs\\lang\\lib\\site-packages (from httpx->llama-index-core<0.12.0,>=0.11.14->llama-index) (2024.8.30)\n",
      "Requirement already satisfied: httpcore==1.* in c:\\users\\admin\\anaconda3\\envs\\lang\\lib\\site-packages (from httpx->llama-index-core<0.12.0,>=0.11.14->llama-index) (1.0.2)\n",
      "Requirement already satisfied: idna in c:\\users\\admin\\anaconda3\\envs\\lang\\lib\\site-packages (from httpx->llama-index-core<0.12.0,>=0.11.14->llama-index) (3.7)\n",
      "Requirement already satisfied: sniffio in c:\\users\\admin\\anaconda3\\envs\\lang\\lib\\site-packages (from httpx->llama-index-core<0.12.0,>=0.11.14->llama-index) (1.3.0)\n",
      "Requirement already satisfied: h11<0.15,>=0.13 in c:\\users\\admin\\anaconda3\\envs\\lang\\lib\\site-packages (from httpcore==1.*->httpx->llama-index-core<0.12.0,>=0.11.14->llama-index) (0.14.0)\n",
      "Requirement already satisfied: distro<2,>=1.7.0 in c:\\users\\admin\\anaconda3\\envs\\lang\\lib\\site-packages (from openai>=1.14.0->llama-index-agent-openai<0.4.0,>=0.3.4->llama-index) (1.9.0)\n",
      "Requirement already satisfied: jiter<1,>=0.4.0 in c:\\users\\admin\\anaconda3\\envs\\lang\\lib\\site-packages (from openai>=1.14.0->llama-index-agent-openai<0.4.0,>=0.3.4->llama-index) (0.5.0)\n",
      "Requirement already satisfied: annotated-types>=0.6.0 in c:\\users\\admin\\anaconda3\\envs\\lang\\lib\\site-packages (from pydantic<3.0.0,>=2.7.0->llama-index-core<0.12.0,>=0.11.14->llama-index) (0.7.0)\n",
      "Requirement already satisfied: pydantic-core==2.23.4 in c:\\users\\admin\\anaconda3\\envs\\lang\\lib\\site-packages (from pydantic<3.0.0,>=2.7.0->llama-index-core<0.12.0,>=0.11.14->llama-index) (2.23.4)\n",
      "Requirement already satisfied: charset-normalizer<4,>=2 in c:\\users\\admin\\anaconda3\\envs\\lang\\lib\\site-packages (from requests>=2.31.0->llama-index-core<0.12.0,>=0.11.14->llama-index) (3.3.2)\n",
      "Requirement already satisfied: urllib3<3,>=1.21.1 in c:\\users\\admin\\anaconda3\\envs\\lang\\lib\\site-packages (from requests>=2.31.0->llama-index-core<0.12.0,>=0.11.14->llama-index) (2.2.2)\n",
      "Requirement already satisfied: greenlet!=0.4.17 in c:\\users\\admin\\anaconda3\\envs\\lang\\lib\\site-packages (from SQLAlchemy>=1.4.49->SQLAlchemy[asyncio]>=1.4.49->llama-index-core<0.12.0,>=0.11.14->llama-index) (3.1.1)\n",
      "Requirement already satisfied: colorama in c:\\users\\admin\\anaconda3\\envs\\lang\\lib\\site-packages (from tqdm<5.0.0,>=4.66.1->llama-index-core<0.12.0,>=0.11.14->llama-index) (0.4.6)\n",
      "Requirement already satisfied: mypy-extensions>=0.3.0 in c:\\users\\admin\\anaconda3\\envs\\lang\\lib\\site-packages (from typing-inspect>=0.8.0->llama-index-core<0.12.0,>=0.11.14->llama-index) (1.0.0)\n",
      "Requirement already satisfied: marshmallow<4.0.0,>=3.18.0 in c:\\users\\admin\\anaconda3\\envs\\lang\\lib\\site-packages (from dataclasses-json->llama-index-core<0.12.0,>=0.11.14->llama-index) (3.22.0)\n",
      "Requirement already satisfied: python-dateutil>=2.8.2 in c:\\users\\admin\\anaconda3\\envs\\lang\\lib\\site-packages (from pandas->llama-index-legacy<0.10.0,>=0.9.48->llama-index) (2.9.0.post0)\n",
      "Requirement already satisfied: pytz>=2020.1 in c:\\users\\admin\\anaconda3\\envs\\lang\\lib\\site-packages (from pandas->llama-index-legacy<0.10.0,>=0.9.48->llama-index) (2024.1)\n",
      "Requirement already satisfied: tzdata>=2022.7 in c:\\users\\admin\\anaconda3\\envs\\lang\\lib\\site-packages (from pandas->llama-index-legacy<0.10.0,>=0.9.48->llama-index) (2024.2)\n",
      "Requirement already satisfied: packaging>=17.0 in c:\\users\\admin\\anaconda3\\envs\\lang\\lib\\site-packages (from marshmallow<4.0.0,>=3.18.0->dataclasses-json->llama-index-core<0.12.0,>=0.11.14->llama-index) (24.1)\n",
      "Requirement already satisfied: six>=1.5 in c:\\users\\admin\\anaconda3\\envs\\lang\\lib\\site-packages (from python-dateutil>=2.8.2->pandas->llama-index-legacy<0.10.0,>=0.9.48->llama-index) (1.16.0)\n",
      "Downloading llama_index-0.11.14-py3-none-any.whl (6.8 kB)\n",
      "Downloading llama_index_agent_openai-0.3.4-py3-none-any.whl (13 kB)\n",
      "Downloading llama_index_cli-0.3.1-py3-none-any.whl (27 kB)\n",
      "Downloading llama_index_core-0.11.14-py3-none-any.whl (1.6 MB)\n",
      "   ---------------------------------------- 0.0/1.6 MB ? eta -:--:--\n",
      "   -------------------- ------------------- 0.8/1.6 MB 4.2 MB/s eta 0:00:01\n",
      "   --------------------------------- ------ 1.3/1.6 MB 4.5 MB/s eta 0:00:01\n",
      "   ---------------------------------------- 1.6/1.6 MB 2.7 MB/s eta 0:00:00\n",
      "Downloading llama_index_embeddings_openai-0.2.5-py3-none-any.whl (6.1 kB)\n",
      "Downloading llama_index_indices_managed_llama_cloud-0.4.0-py3-none-any.whl (10 kB)\n",
      "Downloading llama_index_legacy-0.9.48.post3-py3-none-any.whl (1.2 MB)\n",
      "   ---------------------------------------- 0.0/1.2 MB ? eta -:--:--\n",
      "   -------------------------- ------------- 0.8/1.2 MB 6.7 MB/s eta 0:00:01\n",
      "   ---------------------------------------- 1.2/1.2 MB 3.3 MB/s eta 0:00:00\n",
      "Downloading llama_index_llms_openai-0.2.9-py3-none-any.whl (12 kB)\n",
      "Downloading llama_index_multi_modal_llms_openai-0.2.1-py3-none-any.whl (5.9 kB)\n",
      "Downloading llama_index_program_openai-0.2.0-py3-none-any.whl (5.3 kB)\n",
      "Downloading llama_index_question_gen_openai-0.2.0-py3-none-any.whl (2.9 kB)\n",
      "Downloading llama_index_readers_file-0.2.2-py3-none-any.whl (38 kB)\n",
      "Downloading llama_index_readers_llama_parse-0.3.0-py3-none-any.whl (2.5 kB)\n",
      "Downloading nltk-3.9.1-py3-none-any.whl (1.5 MB)\n",
      "   ---------------------------------------- 0.0/1.5 MB ? eta -:--:--\n",
      "   --------------------------- ------------ 1.0/1.5 MB 5.6 MB/s eta 0:00:01\n",
      "   ---------------------------------------- 1.5/1.5 MB 4.7 MB/s eta 0:00:00\n",
      "Downloading dirtyjson-1.0.8-py3-none-any.whl (25 kB)\n",
      "Downloading llama_cloud-0.1.0-py3-none-any.whl (176 kB)\n",
      "Downloading llama_parse-0.5.6-py3-none-any.whl (10 kB)\n",
      "Downloading pypdf-4.3.1-py3-none-any.whl (295 kB)\n",
      "Downloading striprtf-0.0.26-py3-none-any.whl (6.9 kB)\n",
      "Installing collected packages: striprtf, dirtyjson, pypdf, nltk, llama-index-core, llama-cloud, llama-parse, llama-index-readers-file, llama-index-llms-openai, llama-index-legacy, llama-index-indices-managed-llama-cloud, llama-index-embeddings-openai, llama-index-readers-llama-parse, llama-index-multi-modal-llms-openai, llama-index-cli, llama-index-agent-openai, llama-index-program-openai, llama-index-question-gen-openai, llama-index\n",
      "  Attempting uninstall: pypdf\n",
      "    Found existing installation: pypdf 5.0.1\n",
      "    Uninstalling pypdf-5.0.1:\n",
      "      Successfully uninstalled pypdf-5.0.1\n",
      "Successfully installed dirtyjson-1.0.8 llama-cloud-0.1.0 llama-index-0.11.14 llama-index-agent-openai-0.3.4 llama-index-cli-0.3.1 llama-index-core-0.11.14 llama-index-embeddings-openai-0.2.5 llama-index-indices-managed-llama-cloud-0.4.0 llama-index-legacy-0.9.48.post3 llama-index-llms-openai-0.2.9 llama-index-multi-modal-llms-openai-0.2.1 llama-index-program-openai-0.2.0 llama-index-question-gen-openai-0.2.0 llama-index-readers-file-0.2.2 llama-index-readers-llama-parse-0.3.0 llama-parse-0.5.6 nltk-3.9.1 pypdf-4.3.1 striprtf-0.0.26\n",
      "Note: you may need to restart the kernel to use updated packages.\n"
     ]
    }
   ],
   "source": [
    "pip install llama-index"
   ]
  },
  {
   "cell_type": "code",
   "execution_count": 4,
   "id": "9970ed0f-9b8e-45d4-814e-68c57dc52bd9",
   "metadata": {},
   "outputs": [
    {
     "name": "stdout",
     "output_type": "stream",
     "text": [
      "Collecting llama-index-llms-langchainNote: you may need to restart the kernel to use updated packages.\n",
      "\n",
      "  Downloading llama_index_llms_langchain-0.4.1-py3-none-any.whl.metadata (629 bytes)\n",
      "Requirement already satisfied: langchain>=0.1.3 in c:\\users\\admin\\anaconda3\\envs\\lang\\lib\\site-packages (from llama-index-llms-langchain) (0.3.1)\n",
      "Requirement already satisfied: llama-index-core<0.12.0,>=0.11.0 in c:\\users\\admin\\anaconda3\\envs\\lang\\lib\\site-packages (from llama-index-llms-langchain) (0.11.14)\n",
      "Requirement already satisfied: PyYAML>=5.3 in c:\\users\\admin\\anaconda3\\envs\\lang\\lib\\site-packages (from langchain>=0.1.3->llama-index-llms-langchain) (6.0.1)\n",
      "Requirement already satisfied: SQLAlchemy<3,>=1.4 in c:\\users\\admin\\anaconda3\\envs\\lang\\lib\\site-packages (from langchain>=0.1.3->llama-index-llms-langchain) (2.0.35)\n",
      "Requirement already satisfied: aiohttp<4.0.0,>=3.8.3 in c:\\users\\admin\\anaconda3\\envs\\lang\\lib\\site-packages (from langchain>=0.1.3->llama-index-llms-langchain) (3.10.8)\n",
      "Requirement already satisfied: langchain-core<0.4.0,>=0.3.6 in c:\\users\\admin\\anaconda3\\envs\\lang\\lib\\site-packages (from langchain>=0.1.3->llama-index-llms-langchain) (0.3.6)\n",
      "Requirement already satisfied: langchain-text-splitters<0.4.0,>=0.3.0 in c:\\users\\admin\\anaconda3\\envs\\lang\\lib\\site-packages (from langchain>=0.1.3->llama-index-llms-langchain) (0.3.0)\n",
      "Requirement already satisfied: langsmith<0.2.0,>=0.1.17 in c:\\users\\admin\\anaconda3\\envs\\lang\\lib\\site-packages (from langchain>=0.1.3->llama-index-llms-langchain) (0.1.129)\n",
      "Requirement already satisfied: numpy<2,>=1 in c:\\users\\admin\\anaconda3\\envs\\lang\\lib\\site-packages (from langchain>=0.1.3->llama-index-llms-langchain) (1.26.4)\n",
      "Requirement already satisfied: pydantic<3.0.0,>=2.7.4 in c:\\users\\admin\\anaconda3\\envs\\lang\\lib\\site-packages (from langchain>=0.1.3->llama-index-llms-langchain) (2.9.2)\n",
      "Requirement already satisfied: requests<3,>=2 in c:\\users\\admin\\anaconda3\\envs\\lang\\lib\\site-packages (from langchain>=0.1.3->llama-index-llms-langchain) (2.32.3)\n",
      "Requirement already satisfied: tenacity!=8.4.0,<9.0.0,>=8.1.0 in c:\\users\\admin\\anaconda3\\envs\\lang\\lib\\site-packages (from langchain>=0.1.3->llama-index-llms-langchain) (8.5.0)\n",
      "Requirement already satisfied: dataclasses-json in c:\\users\\admin\\anaconda3\\envs\\lang\\lib\\site-packages (from llama-index-core<0.12.0,>=0.11.0->llama-index-llms-langchain) (0.6.7)\n",
      "Requirement already satisfied: deprecated>=1.2.9.3 in c:\\users\\admin\\anaconda3\\envs\\lang\\lib\\site-packages (from llama-index-core<0.12.0,>=0.11.0->llama-index-llms-langchain) (1.2.14)\n",
      "Requirement already satisfied: dirtyjson<2.0.0,>=1.0.8 in c:\\users\\admin\\anaconda3\\envs\\lang\\lib\\site-packages (from llama-index-core<0.12.0,>=0.11.0->llama-index-llms-langchain) (1.0.8)\n",
      "Requirement already satisfied: fsspec>=2023.5.0 in c:\\users\\admin\\appdata\\roaming\\python\\python311\\site-packages (from llama-index-core<0.12.0,>=0.11.0->llama-index-llms-langchain) (2024.5.0)\n",
      "Requirement already satisfied: httpx in c:\\users\\admin\\anaconda3\\envs\\lang\\lib\\site-packages (from llama-index-core<0.12.0,>=0.11.0->llama-index-llms-langchain) (0.27.0)\n",
      "Requirement already satisfied: nest-asyncio<2.0.0,>=1.5.8 in c:\\users\\admin\\anaconda3\\envs\\lang\\lib\\site-packages (from llama-index-core<0.12.0,>=0.11.0->llama-index-llms-langchain) (1.6.0)\n",
      "Requirement already satisfied: networkx>=3.0 in c:\\users\\admin\\anaconda3\\envs\\lang\\lib\\site-packages (from llama-index-core<0.12.0,>=0.11.0->llama-index-llms-langchain) (3.3)\n",
      "Requirement already satisfied: nltk>3.8.1 in c:\\users\\admin\\anaconda3\\envs\\lang\\lib\\site-packages (from llama-index-core<0.12.0,>=0.11.0->llama-index-llms-langchain) (3.9.1)\n",
      "Requirement already satisfied: pillow>=9.0.0 in c:\\users\\admin\\anaconda3\\envs\\lang\\lib\\site-packages (from llama-index-core<0.12.0,>=0.11.0->llama-index-llms-langchain) (10.4.0)\n",
      "Requirement already satisfied: tiktoken>=0.3.3 in c:\\users\\admin\\anaconda3\\envs\\lang\\lib\\site-packages (from llama-index-core<0.12.0,>=0.11.0->llama-index-llms-langchain) (0.7.0)\n",
      "Requirement already satisfied: tqdm<5.0.0,>=4.66.1 in c:\\users\\admin\\anaconda3\\envs\\lang\\lib\\site-packages (from llama-index-core<0.12.0,>=0.11.0->llama-index-llms-langchain) (4.66.5)\n",
      "Requirement already satisfied: typing-extensions>=4.5.0 in c:\\users\\admin\\anaconda3\\envs\\lang\\lib\\site-packages (from llama-index-core<0.12.0,>=0.11.0->llama-index-llms-langchain) (4.11.0)\n",
      "Requirement already satisfied: typing-inspect>=0.8.0 in c:\\users\\admin\\anaconda3\\envs\\lang\\lib\\site-packages (from llama-index-core<0.12.0,>=0.11.0->llama-index-llms-langchain) (0.9.0)\n",
      "Requirement already satisfied: wrapt in c:\\users\\admin\\anaconda3\\envs\\lang\\lib\\site-packages (from llama-index-core<0.12.0,>=0.11.0->llama-index-llms-langchain) (1.16.0)\n",
      "Requirement already satisfied: aiohappyeyeballs>=2.3.0 in c:\\users\\admin\\anaconda3\\envs\\lang\\lib\\site-packages (from aiohttp<4.0.0,>=3.8.3->langchain>=0.1.3->llama-index-llms-langchain) (2.4.2)\n",
      "Requirement already satisfied: aiosignal>=1.1.2 in c:\\users\\admin\\anaconda3\\envs\\lang\\lib\\site-packages (from aiohttp<4.0.0,>=3.8.3->langchain>=0.1.3->llama-index-llms-langchain) (1.3.1)\n",
      "Requirement already satisfied: attrs>=17.3.0 in c:\\users\\admin\\anaconda3\\envs\\lang\\lib\\site-packages (from aiohttp<4.0.0,>=3.8.3->langchain>=0.1.3->llama-index-llms-langchain) (23.1.0)\n",
      "Requirement already satisfied: frozenlist>=1.1.1 in c:\\users\\admin\\anaconda3\\envs\\lang\\lib\\site-packages (from aiohttp<4.0.0,>=3.8.3->langchain>=0.1.3->llama-index-llms-langchain) (1.4.1)\n",
      "Requirement already satisfied: multidict<7.0,>=4.5 in c:\\users\\admin\\anaconda3\\envs\\lang\\lib\\site-packages (from aiohttp<4.0.0,>=3.8.3->langchain>=0.1.3->llama-index-llms-langchain) (6.1.0)\n",
      "Requirement already satisfied: yarl<2.0,>=1.12.0 in c:\\users\\admin\\anaconda3\\envs\\lang\\lib\\site-packages (from aiohttp<4.0.0,>=3.8.3->langchain>=0.1.3->llama-index-llms-langchain) (1.13.1)\n",
      "Requirement already satisfied: jsonpatch<2.0,>=1.33 in c:\\users\\admin\\anaconda3\\envs\\lang\\lib\\site-packages (from langchain-core<0.4.0,>=0.3.6->langchain>=0.1.3->llama-index-llms-langchain) (1.33)\n",
      "Requirement already satisfied: packaging<25,>=23.2 in c:\\users\\admin\\anaconda3\\envs\\lang\\lib\\site-packages (from langchain-core<0.4.0,>=0.3.6->langchain>=0.1.3->llama-index-llms-langchain) (24.1)\n",
      "Requirement already satisfied: orjson<4.0.0,>=3.9.14 in c:\\users\\admin\\anaconda3\\envs\\lang\\lib\\site-packages (from langsmith<0.2.0,>=0.1.17->langchain>=0.1.3->llama-index-llms-langchain) (3.10.7)\n",
      "Requirement already satisfied: anyio in c:\\users\\admin\\anaconda3\\envs\\lang\\lib\\site-packages (from httpx->llama-index-core<0.12.0,>=0.11.0->llama-index-llms-langchain) (4.2.0)\n",
      "Requirement already satisfied: certifi in c:\\users\\admin\\anaconda3\\envs\\lang\\lib\\site-packages (from httpx->llama-index-core<0.12.0,>=0.11.0->llama-index-llms-langchain) (2024.8.30)\n",
      "Requirement already satisfied: httpcore==1.* in c:\\users\\admin\\anaconda3\\envs\\lang\\lib\\site-packages (from httpx->llama-index-core<0.12.0,>=0.11.0->llama-index-llms-langchain) (1.0.2)\n",
      "Requirement already satisfied: idna in c:\\users\\admin\\anaconda3\\envs\\lang\\lib\\site-packages (from httpx->llama-index-core<0.12.0,>=0.11.0->llama-index-llms-langchain) (3.7)\n",
      "Requirement already satisfied: sniffio in c:\\users\\admin\\anaconda3\\envs\\lang\\lib\\site-packages (from httpx->llama-index-core<0.12.0,>=0.11.0->llama-index-llms-langchain) (1.3.0)\n",
      "Requirement already satisfied: h11<0.15,>=0.13 in c:\\users\\admin\\anaconda3\\envs\\lang\\lib\\site-packages (from httpcore==1.*->httpx->llama-index-core<0.12.0,>=0.11.0->llama-index-llms-langchain) (0.14.0)\n",
      "Requirement already satisfied: click in c:\\users\\admin\\anaconda3\\envs\\lang\\lib\\site-packages (from nltk>3.8.1->llama-index-core<0.12.0,>=0.11.0->llama-index-llms-langchain) (8.1.7)\n",
      "Requirement already satisfied: joblib in c:\\users\\admin\\anaconda3\\envs\\lang\\lib\\site-packages (from nltk>3.8.1->llama-index-core<0.12.0,>=0.11.0->llama-index-llms-langchain) (1.4.2)\n",
      "Requirement already satisfied: regex>=2021.8.3 in c:\\users\\admin\\anaconda3\\envs\\lang\\lib\\site-packages (from nltk>3.8.1->llama-index-core<0.12.0,>=0.11.0->llama-index-llms-langchain) (2024.9.11)\n",
      "Requirement already satisfied: annotated-types>=0.6.0 in c:\\users\\admin\\anaconda3\\envs\\lang\\lib\\site-packages (from pydantic<3.0.0,>=2.7.4->langchain>=0.1.3->llama-index-llms-langchain) (0.7.0)\n",
      "Requirement already satisfied: pydantic-core==2.23.4 in c:\\users\\admin\\anaconda3\\envs\\lang\\lib\\site-packages (from pydantic<3.0.0,>=2.7.4->langchain>=0.1.3->llama-index-llms-langchain) (2.23.4)\n",
      "Requirement already satisfied: charset-normalizer<4,>=2 in c:\\users\\admin\\anaconda3\\envs\\lang\\lib\\site-packages (from requests<3,>=2->langchain>=0.1.3->llama-index-llms-langchain) (3.3.2)\n",
      "Requirement already satisfied: urllib3<3,>=1.21.1 in c:\\users\\admin\\anaconda3\\envs\\lang\\lib\\site-packages (from requests<3,>=2->langchain>=0.1.3->llama-index-llms-langchain) (2.2.2)\n",
      "Requirement already satisfied: greenlet!=0.4.17 in c:\\users\\admin\\anaconda3\\envs\\lang\\lib\\site-packages (from SQLAlchemy<3,>=1.4->langchain>=0.1.3->llama-index-llms-langchain) (3.1.1)\n",
      "Requirement already satisfied: colorama in c:\\users\\admin\\anaconda3\\envs\\lang\\lib\\site-packages (from tqdm<5.0.0,>=4.66.1->llama-index-core<0.12.0,>=0.11.0->llama-index-llms-langchain) (0.4.6)\n",
      "Requirement already satisfied: mypy-extensions>=0.3.0 in c:\\users\\admin\\anaconda3\\envs\\lang\\lib\\site-packages (from typing-inspect>=0.8.0->llama-index-core<0.12.0,>=0.11.0->llama-index-llms-langchain) (1.0.0)\n",
      "Requirement already satisfied: marshmallow<4.0.0,>=3.18.0 in c:\\users\\admin\\anaconda3\\envs\\lang\\lib\\site-packages (from dataclasses-json->llama-index-core<0.12.0,>=0.11.0->llama-index-llms-langchain) (3.22.0)\n",
      "Requirement already satisfied: jsonpointer>=1.9 in c:\\users\\admin\\anaconda3\\envs\\lang\\lib\\site-packages (from jsonpatch<2.0,>=1.33->langchain-core<0.4.0,>=0.3.6->langchain>=0.1.3->llama-index-llms-langchain) (3.0.0)\n",
      "Downloading llama_index_llms_langchain-0.4.1-py3-none-any.whl (4.9 kB)\n",
      "Installing collected packages: llama-index-llms-langchain\n",
      "Successfully installed llama-index-llms-langchain-0.4.1\n"
     ]
    }
   ],
   "source": [
    "pip install llama-index-llms-langchain"
   ]
  },
  {
   "cell_type": "code",
   "execution_count": 5,
   "id": "4772998a-2040-45c9-91c7-38c2b43fc58f",
   "metadata": {},
   "outputs": [
    {
     "name": "stdout",
     "output_type": "stream",
     "text": [
      "Collecting llama-index-embeddings-langchain\n",
      "  Downloading llama_index_embeddings_langchain-0.2.1-py3-none-any.whl.metadata (612 bytes)\n",
      "Requirement already satisfied: llama-index-core<0.12.0,>=0.11.0 in c:\\users\\admin\\anaconda3\\envs\\lang\\lib\\site-packages (from llama-index-embeddings-langchain) (0.11.14)\n",
      "Requirement already satisfied: PyYAML>=6.0.1 in c:\\users\\admin\\anaconda3\\envs\\lang\\lib\\site-packages (from llama-index-core<0.12.0,>=0.11.0->llama-index-embeddings-langchain) (6.0.1)\n",
      "Requirement already satisfied: SQLAlchemy>=1.4.49 in c:\\users\\admin\\anaconda3\\envs\\lang\\lib\\site-packages (from SQLAlchemy[asyncio]>=1.4.49->llama-index-core<0.12.0,>=0.11.0->llama-index-embeddings-langchain) (2.0.35)\n",
      "Requirement already satisfied: aiohttp<4.0.0,>=3.8.6 in c:\\users\\admin\\anaconda3\\envs\\lang\\lib\\site-packages (from llama-index-core<0.12.0,>=0.11.0->llama-index-embeddings-langchain) (3.10.8)\n",
      "Requirement already satisfied: dataclasses-json in c:\\users\\admin\\anaconda3\\envs\\lang\\lib\\site-packages (from llama-index-core<0.12.0,>=0.11.0->llama-index-embeddings-langchain) (0.6.7)\n",
      "Requirement already satisfied: deprecated>=1.2.9.3 in c:\\users\\admin\\anaconda3\\envs\\lang\\lib\\site-packages (from llama-index-core<0.12.0,>=0.11.0->llama-index-embeddings-langchain) (1.2.14)\n",
      "Requirement already satisfied: dirtyjson<2.0.0,>=1.0.8 in c:\\users\\admin\\anaconda3\\envs\\lang\\lib\\site-packages (from llama-index-core<0.12.0,>=0.11.0->llama-index-embeddings-langchain) (1.0.8)\n",
      "Requirement already satisfied: fsspec>=2023.5.0 in c:\\users\\admin\\appdata\\roaming\\python\\python311\\site-packages (from llama-index-core<0.12.0,>=0.11.0->llama-index-embeddings-langchain) (2024.5.0)\n",
      "Requirement already satisfied: httpx in c:\\users\\admin\\anaconda3\\envs\\lang\\lib\\site-packages (from llama-index-core<0.12.0,>=0.11.0->llama-index-embeddings-langchain) (0.27.0)\n",
      "Requirement already satisfied: nest-asyncio<2.0.0,>=1.5.8 in c:\\users\\admin\\anaconda3\\envs\\lang\\lib\\site-packages (from llama-index-core<0.12.0,>=0.11.0->llama-index-embeddings-langchain) (1.6.0)\n",
      "Requirement already satisfied: networkx>=3.0 in c:\\users\\admin\\anaconda3\\envs\\lang\\lib\\site-packages (from llama-index-core<0.12.0,>=0.11.0->llama-index-embeddings-langchain) (3.3)\n",
      "Requirement already satisfied: nltk>3.8.1 in c:\\users\\admin\\anaconda3\\envs\\lang\\lib\\site-packages (from llama-index-core<0.12.0,>=0.11.0->llama-index-embeddings-langchain) (3.9.1)\n",
      "Requirement already satisfied: numpy<2.0.0 in c:\\users\\admin\\anaconda3\\envs\\lang\\lib\\site-packages (from llama-index-core<0.12.0,>=0.11.0->llama-index-embeddings-langchain) (1.26.4)\n",
      "Requirement already satisfied: pillow>=9.0.0 in c:\\users\\admin\\anaconda3\\envs\\lang\\lib\\site-packages (from llama-index-core<0.12.0,>=0.11.0->llama-index-embeddings-langchain) (10.4.0)\n",
      "Requirement already satisfied: pydantic<3.0.0,>=2.7.0 in c:\\users\\admin\\anaconda3\\envs\\lang\\lib\\site-packages (from llama-index-core<0.12.0,>=0.11.0->llama-index-embeddings-langchain) (2.9.2)\n",
      "Requirement already satisfied: requests>=2.31.0 in c:\\users\\admin\\anaconda3\\envs\\lang\\lib\\site-packages (from llama-index-core<0.12.0,>=0.11.0->llama-index-embeddings-langchain) (2.32.3)\n",
      "Requirement already satisfied: tenacity!=8.4.0,<9.0.0,>=8.2.0 in c:\\users\\admin\\anaconda3\\envs\\lang\\lib\\site-packages (from llama-index-core<0.12.0,>=0.11.0->llama-index-embeddings-langchain) (8.5.0)\n",
      "Requirement already satisfied: tiktoken>=0.3.3 in c:\\users\\admin\\anaconda3\\envs\\lang\\lib\\site-packages (from llama-index-core<0.12.0,>=0.11.0->llama-index-embeddings-langchain) (0.7.0)\n",
      "Requirement already satisfied: tqdm<5.0.0,>=4.66.1 in c:\\users\\admin\\anaconda3\\envs\\lang\\lib\\site-packages (from llama-index-core<0.12.0,>=0.11.0->llama-index-embeddings-langchain) (4.66.5)\n",
      "Requirement already satisfied: typing-extensions>=4.5.0 in c:\\users\\admin\\anaconda3\\envs\\lang\\lib\\site-packages (from llama-index-core<0.12.0,>=0.11.0->llama-index-embeddings-langchain) (4.11.0)\n",
      "Requirement already satisfied: typing-inspect>=0.8.0 in c:\\users\\admin\\anaconda3\\envs\\lang\\lib\\site-packages (from llama-index-core<0.12.0,>=0.11.0->llama-index-embeddings-langchain) (0.9.0)\n",
      "Requirement already satisfied: wrapt in c:\\users\\admin\\anaconda3\\envs\\lang\\lib\\site-packages (from llama-index-core<0.12.0,>=0.11.0->llama-index-embeddings-langchain) (1.16.0)\n",
      "Requirement already satisfied: aiohappyeyeballs>=2.3.0 in c:\\users\\admin\\anaconda3\\envs\\lang\\lib\\site-packages (from aiohttp<4.0.0,>=3.8.6->llama-index-core<0.12.0,>=0.11.0->llama-index-embeddings-langchain) (2.4.2)\n",
      "Requirement already satisfied: aiosignal>=1.1.2 in c:\\users\\admin\\anaconda3\\envs\\lang\\lib\\site-packages (from aiohttp<4.0.0,>=3.8.6->llama-index-core<0.12.0,>=0.11.0->llama-index-embeddings-langchain) (1.3.1)\n",
      "Requirement already satisfied: attrs>=17.3.0 in c:\\users\\admin\\anaconda3\\envs\\lang\\lib\\site-packages (from aiohttp<4.0.0,>=3.8.6->llama-index-core<0.12.0,>=0.11.0->llama-index-embeddings-langchain) (23.1.0)\n",
      "Requirement already satisfied: frozenlist>=1.1.1 in c:\\users\\admin\\anaconda3\\envs\\lang\\lib\\site-packages (from aiohttp<4.0.0,>=3.8.6->llama-index-core<0.12.0,>=0.11.0->llama-index-embeddings-langchain) (1.4.1)\n",
      "Requirement already satisfied: multidict<7.0,>=4.5 in c:\\users\\admin\\anaconda3\\envs\\lang\\lib\\site-packages (from aiohttp<4.0.0,>=3.8.6->llama-index-core<0.12.0,>=0.11.0->llama-index-embeddings-langchain) (6.1.0)\n",
      "Requirement already satisfied: yarl<2.0,>=1.12.0 in c:\\users\\admin\\anaconda3\\envs\\lang\\lib\\site-packages (from aiohttp<4.0.0,>=3.8.6->llama-index-core<0.12.0,>=0.11.0->llama-index-embeddings-langchain) (1.13.1)\n",
      "Requirement already satisfied: click in c:\\users\\admin\\anaconda3\\envs\\lang\\lib\\site-packages (from nltk>3.8.1->llama-index-core<0.12.0,>=0.11.0->llama-index-embeddings-langchain) (8.1.7)\n",
      "Requirement already satisfied: joblib in c:\\users\\admin\\anaconda3\\envs\\lang\\lib\\site-packages (from nltk>3.8.1->llama-index-core<0.12.0,>=0.11.0->llama-index-embeddings-langchain) (1.4.2)\n",
      "Requirement already satisfied: regex>=2021.8.3 in c:\\users\\admin\\anaconda3\\envs\\lang\\lib\\site-packages (from nltk>3.8.1->llama-index-core<0.12.0,>=0.11.0->llama-index-embeddings-langchain) (2024.9.11)\n",
      "Requirement already satisfied: annotated-types>=0.6.0 in c:\\users\\admin\\anaconda3\\envs\\lang\\lib\\site-packages (from pydantic<3.0.0,>=2.7.0->llama-index-core<0.12.0,>=0.11.0->llama-index-embeddings-langchain) (0.7.0)\n",
      "Requirement already satisfied: pydantic-core==2.23.4 in c:\\users\\admin\\anaconda3\\envs\\lang\\lib\\site-packages (from pydantic<3.0.0,>=2.7.0->llama-index-core<0.12.0,>=0.11.0->llama-index-embeddings-langchain) (2.23.4)\n",
      "Requirement already satisfied: charset-normalizer<4,>=2 in c:\\users\\admin\\anaconda3\\envs\\lang\\lib\\site-packages (from requests>=2.31.0->llama-index-core<0.12.0,>=0.11.0->llama-index-embeddings-langchain) (3.3.2)\n",
      "Requirement already satisfied: idna<4,>=2.5 in c:\\users\\admin\\anaconda3\\envs\\lang\\lib\\site-packages (from requests>=2.31.0->llama-index-core<0.12.0,>=0.11.0->llama-index-embeddings-langchain) (3.7)\n",
      "Requirement already satisfied: urllib3<3,>=1.21.1 in c:\\users\\admin\\anaconda3\\envs\\lang\\lib\\site-packages (from requests>=2.31.0->llama-index-core<0.12.0,>=0.11.0->llama-index-embeddings-langchain) (2.2.2)\n",
      "Requirement already satisfied: certifi>=2017.4.17 in c:\\users\\admin\\anaconda3\\envs\\lang\\lib\\site-packages (from requests>=2.31.0->llama-index-core<0.12.0,>=0.11.0->llama-index-embeddings-langchain) (2024.8.30)\n",
      "Requirement already satisfied: greenlet!=0.4.17 in c:\\users\\admin\\anaconda3\\envs\\lang\\lib\\site-packages (from SQLAlchemy>=1.4.49->SQLAlchemy[asyncio]>=1.4.49->llama-index-core<0.12.0,>=0.11.0->llama-index-embeddings-langchain) (3.1.1)\n",
      "Requirement already satisfied: colorama in c:\\users\\admin\\anaconda3\\envs\\lang\\lib\\site-packages (from tqdm<5.0.0,>=4.66.1->llama-index-core<0.12.0,>=0.11.0->llama-index-embeddings-langchain) (0.4.6)\n",
      "Requirement already satisfied: mypy-extensions>=0.3.0 in c:\\users\\admin\\anaconda3\\envs\\lang\\lib\\site-packages (from typing-inspect>=0.8.0->llama-index-core<0.12.0,>=0.11.0->llama-index-embeddings-langchain) (1.0.0)\n",
      "Requirement already satisfied: marshmallow<4.0.0,>=3.18.0 in c:\\users\\admin\\anaconda3\\envs\\lang\\lib\\site-packages (from dataclasses-json->llama-index-core<0.12.0,>=0.11.0->llama-index-embeddings-langchain) (3.22.0)\n",
      "Requirement already satisfied: anyio in c:\\users\\admin\\anaconda3\\envs\\lang\\lib\\site-packages (from httpx->llama-index-core<0.12.0,>=0.11.0->llama-index-embeddings-langchain) (4.2.0)\n",
      "Requirement already satisfied: httpcore==1.* in c:\\users\\admin\\anaconda3\\envs\\lang\\lib\\site-packages (from httpx->llama-index-core<0.12.0,>=0.11.0->llama-index-embeddings-langchain) (1.0.2)\n",
      "Requirement already satisfied: sniffio in c:\\users\\admin\\anaconda3\\envs\\lang\\lib\\site-packages (from httpx->llama-index-core<0.12.0,>=0.11.0->llama-index-embeddings-langchain) (1.3.0)\n",
      "Requirement already satisfied: h11<0.15,>=0.13 in c:\\users\\admin\\anaconda3\\envs\\lang\\lib\\site-packages (from httpcore==1.*->httpx->llama-index-core<0.12.0,>=0.11.0->llama-index-embeddings-langchain) (0.14.0)\n",
      "Requirement already satisfied: packaging>=17.0 in c:\\users\\admin\\anaconda3\\envs\\lang\\lib\\site-packages (from marshmallow<4.0.0,>=3.18.0->dataclasses-json->llama-index-core<0.12.0,>=0.11.0->llama-index-embeddings-langchain) (24.1)\n",
      "Downloading llama_index_embeddings_langchain-0.2.1-py3-none-any.whl (2.5 kB)\n",
      "Installing collected packages: llama-index-embeddings-langchain\n",
      "Successfully installed llama-index-embeddings-langchain-0.2.1\n",
      "Note: you may need to restart the kernel to use updated packages.\n"
     ]
    }
   ],
   "source": [
    "pip install llama-index-embeddings-langchain"
   ]
  },
  {
   "cell_type": "code",
   "execution_count": 1,
   "id": "1397ed10-6c7b-43bb-a6fc-26d01626d405",
   "metadata": {},
   "outputs": [
    {
     "data": {
      "text/plain": [
       "[Document(id_='bdd92c16-974e-4383-aeb2-16ca3cb6291d', embedding=None, metadata={'page_label': '1', 'file_name': 'Intro to Fitness.pdf', 'file_path': 'C:\\\\Users\\\\Admin\\\\file\\\\Intro to Fitness.pdf', 'file_type': 'application/pdf', 'file_size': 2534718, 'creation_date': '2024-08-05', 'last_modified_date': '2024-07-30'}, excluded_embed_metadata_keys=['file_name', 'file_type', 'file_size', 'creation_date', 'last_modified_date', 'last_accessed_date'], excluded_llm_metadata_keys=['file_name', 'file_type', 'file_size', 'creation_date', 'last_modified_date', 'last_accessed_date'], relationships={}, text='Introduction to Fitness  \\nइंट्रोडक्शन  टू फ़िटनेस   \\n \\n', mimetype='text/plain', start_char_idx=None, end_char_idx=None, text_template='{metadata_str}\\n\\n{content}', metadata_template='{key}: {value}', metadata_seperator='\\n'),\n",
       " Document(id_='4d2fa717-59b0-41eb-b164-89e325914a61', embedding=None, metadata={'page_label': '2', 'file_name': 'Intro to Fitness.pdf', 'file_path': 'C:\\\\Users\\\\Admin\\\\file\\\\Intro to Fitness.pdf', 'file_type': 'application/pdf', 'file_size': 2534718, 'creation_date': '2024-08-05', 'last_modified_date': '2024-07-30'}, excluded_embed_metadata_keys=['file_name', 'file_type', 'file_size', 'creation_date', 'last_modified_date', 'last_accessed_date'], excluded_llm_metadata_keys=['file_name', 'file_type', 'file_size', 'creation_date', 'last_modified_date', 'last_accessed_date'], relationships={}, text='Outline  \\n आउटलाइन  \\n•Health and Fitness  \\n•Goals of a Fitness Professional  \\n•Types of Ageing  \\n•Graph of Physical Capability  \\n•Longevity and Retirement  \\n•Sports and Fitness  \\n•Maintenance  \\n•Improvement and Optimization  \\n•Benefits of Fitness  \\n•Defining GPP (General Physical \\nPreparedness)  \\n•Components of Fitness  \\n•Interdependence between \\ncomponents of fitness  •हेल्थ और फ़िटनेस \\n•फ़िटनेस प्रोिेशनल के लक्ष \\n•एज ंग  के प्रकार \\n•फ़िज कल  कॅपॅजिजलटी  का ग्राि \\n•लॉन् ेवीटी  और ररटायरमेन्ट  \\n•स्पोर्टसस  और फ़िटनेस \\n•मेन्टेनन्स  \\n•इम्प्प्रूवमेन्ट और ऑजटटमाइज़ेशन \\n•फ़िटनेस के िायदे  \\n• ी. पी. पी ( नरल  फ़िज कल  जप्रपेडसनेस ) \\nकी व्याख्या   \\n•फ़िटनेस के कम्प्पोनंर्टस  \\n•फ़िटनेस के कम्प्पोनंर्टस  की आपस  में \\nजनर्सरता  \\n \\n \\n ', mimetype='text/plain', start_char_idx=None, end_char_idx=None, text_template='{metadata_str}\\n\\n{content}', metadata_template='{key}: {value}', metadata_seperator='\\n'),\n",
       " Document(id_='a5ab15a4-d668-4e92-94e9-c1b37920407a', embedding=None, metadata={'page_label': '3', 'file_name': 'Intro to Fitness.pdf', 'file_path': 'C:\\\\Users\\\\Admin\\\\file\\\\Intro to Fitness.pdf', 'file_type': 'application/pdf', 'file_size': 2534718, 'creation_date': '2024-08-05', 'last_modified_date': '2024-07-30'}, excluded_embed_metadata_keys=['file_name', 'file_type', 'file_size', 'creation_date', 'last_modified_date', 'last_accessed_date'], excluded_llm_metadata_keys=['file_name', 'file_type', 'file_size', 'creation_date', 'last_modified_date', 'last_accessed_date'], relationships={}, text='Health  \\nहेल्थ \\nHealth: Absence of abnormalities in the body.  \\nहेल्थ / स्वास््य : शरीर में असामान्यताओं का अर्ाव। \\n', mimetype='text/plain', start_char_idx=None, end_char_idx=None, text_template='{metadata_str}\\n\\n{content}', metadata_template='{key}: {value}', metadata_seperator='\\n'),\n",
       " Document(id_='2971083d-6afd-49ab-980c-821d287db640', embedding=None, metadata={'page_label': '4', 'file_name': 'Intro to Fitness.pdf', 'file_path': 'C:\\\\Users\\\\Admin\\\\file\\\\Intro to Fitness.pdf', 'file_type': 'application/pdf', 'file_size': 2534718, 'creation_date': '2024-08-05', 'last_modified_date': '2024-07-30'}, excluded_embed_metadata_keys=['file_name', 'file_type', 'file_size', 'creation_date', 'last_modified_date', 'last_accessed_date'], excluded_llm_metadata_keys=['file_name', 'file_type', 'file_size', 'creation_date', 'last_modified_date', 'last_accessed_date'], relationships={}, text='What is the meaning of being “fit”?  \\n“फ़िट’’ रहने का मतलि  क्या है? \\n', mimetype='text/plain', start_char_idx=None, end_char_idx=None, text_template='{metadata_str}\\n\\n{content}', metadata_template='{key}: {value}', metadata_seperator='\\n'),\n",
       " Document(id_='556f8fd2-a92e-478e-9f68-16006ff3a816', embedding=None, metadata={'page_label': '5', 'file_name': 'Intro to Fitness.pdf', 'file_path': 'C:\\\\Users\\\\Admin\\\\file\\\\Intro to Fitness.pdf', 'file_type': 'application/pdf', 'file_size': 2534718, 'creation_date': '2024-08-05', 'last_modified_date': '2024-07-30'}, excluded_embed_metadata_keys=['file_name', 'file_type', 'file_size', 'creation_date', 'last_modified_date', 'last_accessed_date'], excluded_llm_metadata_keys=['file_name', 'file_type', 'file_size', 'creation_date', 'last_modified_date', 'last_accessed_date'], relationships={}, text='Fitness  \\nफ़िटनेस \\n•Fitness is a measure of physical \\ncapability.  \\n \\n•Fitness is task specific.                \\nAre you fit for a particular task ? •फ़िटनेस शरीर की कायसक्षमता  का मापदंड       \\nहै। \\n \\n•फ़िटनेस टास्क स्पेजसफ़िक  होती है।             \\nक्या आप फ़कसी जवशेष  कायस के जलए फ़िट है? \\n', mimetype='text/plain', start_char_idx=None, end_char_idx=None, text_template='{metadata_str}\\n\\n{content}', metadata_template='{key}: {value}', metadata_seperator='\\n'),\n",
       " Document(id_='7b852931-09b5-4dfc-a5cd-877e7c3a6e68', embedding=None, metadata={'page_label': '6', 'file_name': 'Intro to Fitness.pdf', 'file_path': 'C:\\\\Users\\\\Admin\\\\file\\\\Intro to Fitness.pdf', 'file_type': 'application/pdf', 'file_size': 2534718, 'creation_date': '2024-08-05', 'last_modified_date': '2024-07-30'}, excluded_embed_metadata_keys=['file_name', 'file_type', 'file_size', 'creation_date', 'last_modified_date', 'last_accessed_date'], excluded_llm_metadata_keys=['file_name', 'file_type', 'file_size', 'creation_date', 'last_modified_date', 'last_accessed_date'], relationships={}, text='Goals of a Fitness Professional  \\nImprove client’s quality of life by:   \\n‣Increasing client’s functionality / performance and combating \\ndegenerative forces of ageing.  \\nक्लाइंट  क्वाजलटी  ऑि लाईि  मे सुधार  लाने के जलए :  \\n‣क्लाइंट  की िंक्शनॅजलटी  / परिॉमसन्स में सुधार लाना और  एज ंग  प्रफ़िया  की \\nजड नरेरटव िोसेस का मुकािला  करना।   \\nफ़िटनेस प्रोिेशनल  के लक्ष ', mimetype='text/plain', start_char_idx=None, end_char_idx=None, text_template='{metadata_str}\\n\\n{content}', metadata_template='{key}: {value}', metadata_seperator='\\n'),\n",
       " Document(id_='21f34ed6-44bb-4987-ad27-190f32c54053', embedding=None, metadata={'page_label': '7', 'file_name': 'Intro to Fitness.pdf', 'file_path': 'C:\\\\Users\\\\Admin\\\\file\\\\Intro to Fitness.pdf', 'file_type': 'application/pdf', 'file_size': 2534718, 'creation_date': '2024-08-05', 'last_modified_date': '2024-07-30'}, excluded_embed_metadata_keys=['file_name', 'file_type', 'file_size', 'creation_date', 'last_modified_date', 'last_accessed_date'], excluded_llm_metadata_keys=['file_name', 'file_type', 'file_size', 'creation_date', 'last_modified_date', 'last_accessed_date'], relationships={}, text='Types of Ageing  \\nएज ंग  के  प्रकार  \\n Chronological age  \\nिोनोलॉज कल ए  Physical age  \\nफ़िज कल ए  \\n‣It is just a number.                    \\nयह केवल एक संख्या है। \\n \\n‣It is time -dependent.        \\nयह समय पर जनर्सर है।  \\n \\n‣It cannot be controlled.   \\nइसे जनयन्रण  में नही रख सकते। ‣It is a physical state.        \\nयह फ़िज कल स्टेट है।  \\n \\n‣It is lifestyle -dependent.  \\nयह लाइिस्टाइल पर जनर्सर है। \\n \\n‣It can be controlled.       \\nइसे जनयन्रण  में रख सकते है। \\nTom cruise and Kelly McGillis  ', mimetype='text/plain', start_char_idx=None, end_char_idx=None, text_template='{metadata_str}\\n\\n{content}', metadata_template='{key}: {value}', metadata_seperator='\\n'),\n",
       " Document(id_='9cfbf539-d5aa-4d6d-8625-0416687f3bb0', embedding=None, metadata={'page_label': '8', 'file_name': 'Intro to Fitness.pdf', 'file_path': 'C:\\\\Users\\\\Admin\\\\file\\\\Intro to Fitness.pdf', 'file_type': 'application/pdf', 'file_size': 2534718, 'creation_date': '2024-08-05', 'last_modified_date': '2024-07-30'}, excluded_embed_metadata_keys=['file_name', 'file_type', 'file_size', 'creation_date', 'last_modified_date', 'last_accessed_date'], excluded_llm_metadata_keys=['file_name', 'file_type', 'file_size', 'creation_date', 'last_modified_date', 'last_accessed_date'], relationships={}, text='Physical Capability    \\nफ़िज कल  कॅपॅजिजलटी  \\n', mimetype='text/plain', start_char_idx=None, end_char_idx=None, text_template='{metadata_str}\\n\\n{content}', metadata_template='{key}: {value}', metadata_seperator='\\n'),\n",
       " Document(id_='21dc3893-625d-4be0-bf67-b5fc2efdcbef', embedding=None, metadata={'page_label': '9', 'file_name': 'Intro to Fitness.pdf', 'file_path': 'C:\\\\Users\\\\Admin\\\\file\\\\Intro to Fitness.pdf', 'file_type': 'application/pdf', 'file_size': 2534718, 'creation_date': '2024-08-05', 'last_modified_date': '2024-07-30'}, excluded_embed_metadata_keys=['file_name', 'file_type', 'file_size', 'creation_date', 'last_modified_date', 'last_accessed_date'], excluded_llm_metadata_keys=['file_name', 'file_type', 'file_size', 'creation_date', 'last_modified_date', 'last_accessed_date'], relationships={}, text='•Longevity – long life or long existence.  \\n•Retirement from work is age related.  \\n•To continue doing what you love depends on your fitness levels.  \\n•No retirement from daily life activities.  \\n•Longevity in staying active and independent depends on physical age. \\nLongevity and Retirement  \\nलॉन् ेवीटी  और ररटायरमेन्ट  (सेवाजनवृजि ) \\n•लॉन् ेवीटी  - दीर्स  ीवन या दीर्स अजस्तत्व । \\n•काम से ररटायरमेन्ट  (सेवाजनवृजि ) उम्र से संिंजधत है। \\n•आपको  ो अच्छा लगता है उसे  ारी रखना आपके फ़िटनेस लेवल्स पर जनर्सर करता है। \\n•दैजनक  ीवन की गजतजवजधयों से कोई जनवृजि नहीं। \\n•लम्प्िे समय तक एजक्टव  और स्वतंर  रहना फ़िज कल  ए  पर जनर्सर करता है। ', mimetype='text/plain', start_char_idx=None, end_char_idx=None, text_template='{metadata_str}\\n\\n{content}', metadata_template='{key}: {value}', metadata_seperator='\\n'),\n",
       " Document(id_='b251f221-6e5e-48e4-b793-3870d8f4225c', embedding=None, metadata={'page_label': '10', 'file_name': 'Intro to Fitness.pdf', 'file_path': 'C:\\\\Users\\\\Admin\\\\file\\\\Intro to Fitness.pdf', 'file_type': 'application/pdf', 'file_size': 2534718, 'creation_date': '2024-08-05', 'last_modified_date': '2024-07-30'}, excluded_embed_metadata_keys=['file_name', 'file_type', 'file_size', 'creation_date', 'last_modified_date', 'last_accessed_date'], excluded_llm_metadata_keys=['file_name', 'file_type', 'file_size', 'creation_date', 'last_modified_date', 'last_accessed_date'], relationships={}, text='•Increase in strength and \\nmuscle hypertrophy.   •स्ट्रेन्थ िढ़ती है और मसल्स की \\nहाइपरट्रॉिी होती है।  \\n•Increase in bone density.   •िोन डेजन्सटी िढ़ती है।  \\n•Increase in joint strength.   • ॉइन्र्टस म िूत िनते हैं।  \\n•Increased ability of the body  \\nto tolerate misuse.   •शरीर की जमसयूज़ (दुरुपयोग ) को \\nसहन करने की क्षमता िढ़ती है।  \\n•Increase in endurance.   •एन्युरन्स िढ़ता है।  \\n•Improved mobility.   •िेहतर मोजिजलटी।  \\n•Anti-ageing.   •एन्टी-एज ंग।  \\nBenefits of Fitness  \\n \\nफ़िटनेस के िायदे  ', mimetype='text/plain', start_char_idx=None, end_char_idx=None, text_template='{metadata_str}\\n\\n{content}', metadata_template='{key}: {value}', metadata_seperator='\\n'),\n",
       " Document(id_='0517f6a9-de70-4c41-a350-1ad5677d1635', embedding=None, metadata={'page_label': '11', 'file_name': 'Intro to Fitness.pdf', 'file_path': 'C:\\\\Users\\\\Admin\\\\file\\\\Intro to Fitness.pdf', 'file_type': 'application/pdf', 'file_size': 2534718, 'creation_date': '2024-08-05', 'last_modified_date': '2024-07-30'}, excluded_embed_metadata_keys=['file_name', 'file_type', 'file_size', 'creation_date', 'last_modified_date', 'last_accessed_date'], excluded_llm_metadata_keys=['file_name', 'file_type', 'file_size', 'creation_date', 'last_modified_date', 'last_accessed_date'], relationships={}, text='•Playing sports without paying attention to strength and conditioning \\nreduces the longevity of an athlete.  \\n•Foundation for optimal sports performance is optimal fitness.  \\n•Fitness is not the outcome of playing sports ; it is the requirement of \\nplaying sports.  \\nSports and Fitness  \\nस्पोर्टसस  और फ़िटनेस \\n•स्ट्रेन्थ और कंडीशजनंग  पर ध्यान फ़दए जिना खेल खेलना  एक ऍथजलट  की लॉन् ेवीटी  \\nको कम करता है। \\n•ऑटटीमल  स्पोर्टसस  परिॉमसन्स की िाऊन्डेशन  ऑटटीमल  फ़िटनेस है। \\n•फ़िटनेस स्पोर्टसस  खेलने का नती ा नहीं है ; स्पोर्टसस  खेलने के जलए फ़िटनेस  रूरी है । ', mimetype='text/plain', start_char_idx=None, end_char_idx=None, text_template='{metadata_str}\\n\\n{content}', metadata_template='{key}: {value}', metadata_seperator='\\n'),\n",
       " Document(id_='c10c5b05-c20b-4100-91a5-e66287b5ace6', embedding=None, metadata={'page_label': '12', 'file_name': 'Intro to Fitness.pdf', 'file_path': 'C:\\\\Users\\\\Admin\\\\file\\\\Intro to Fitness.pdf', 'file_type': 'application/pdf', 'file_size': 2534718, 'creation_date': '2024-08-05', 'last_modified_date': '2024-07-30'}, excluded_embed_metadata_keys=['file_name', 'file_type', 'file_size', 'creation_date', 'last_modified_date', 'last_accessed_date'], excluded_llm_metadata_keys=['file_name', 'file_type', 'file_size', 'creation_date', 'last_modified_date', 'last_accessed_date'], relationships={}, text='General Physical Preparedness: Ability \\nof the body to comfortably tackle daily \\nlife and emergency situations that need \\nphysical exertion, with utmost \\nefficiency.  \\n \\n \\nG.P.P.  \\nGeneral Physical Preparedness  \\n ी. पी. पी.  \\n नरल  फ़िज कल  जप्रपेडसनेस  \\n नरल  फ़िज कल  जप्रपेडसनेस  : दैजनक   ीवन  और \\nआपातकाल  की ऐसी जस्थजतयााँ , ज नमे  \\nअत्याजधक  दक्षता  के साथ शारीररक  पररश्रम  की \\nआवश्यकता  होती है, उनसे सह ता  से जनपटने  \\nकी हमारे शरीर की क्षमता। \\n \\n', mimetype='text/plain', start_char_idx=None, end_char_idx=None, text_template='{metadata_str}\\n\\n{content}', metadata_template='{key}: {value}', metadata_seperator='\\n'),\n",
       " Document(id_='3467be86-813c-4247-89de-ff41ea8931ab', embedding=None, metadata={'page_label': '13', 'file_name': 'Intro to Fitness.pdf', 'file_path': 'C:\\\\Users\\\\Admin\\\\file\\\\Intro to Fitness.pdf', 'file_type': 'application/pdf', 'file_size': 2534718, 'creation_date': '2024-08-05', 'last_modified_date': '2024-07-30'}, excluded_embed_metadata_keys=['file_name', 'file_type', 'file_size', 'creation_date', 'last_modified_date', 'last_accessed_date'], excluded_llm_metadata_keys=['file_name', 'file_type', 'file_size', 'creation_date', 'last_modified_date', 'last_accessed_date'], relationships={}, text='Components of Fitness  \\nफ़िटनेस के कम्प्पोनंर्टस   \\n1. Cardiorespiratory endurance  1. कार्डसओरेजस्परेटरी एन्युरन्स  \\n2. Muscular endurance  2. मस्क्युलर एन्युरन्स  \\n3. Musculoskeletal strength  3. मस्क्युलोस्केलेटल स्ट्रेन्थ  \\n4. Flexibility  4. फ़्लेजक्सजिजलटी  \\n5. Ideal body composition  5. आइजडयल िॉडी कम्प्पोजज़शन  ', mimetype='text/plain', start_char_idx=None, end_char_idx=None, text_template='{metadata_str}\\n\\n{content}', metadata_template='{key}: {value}', metadata_seperator='\\n'),\n",
       " Document(id_='45506d75-6535-4fc4-a38f-7cc09b328d0a', embedding=None, metadata={'page_label': '14', 'file_name': 'Intro to Fitness.pdf', 'file_path': 'C:\\\\Users\\\\Admin\\\\file\\\\Intro to Fitness.pdf', 'file_type': 'application/pdf', 'file_size': 2534718, 'creation_date': '2024-08-05', 'last_modified_date': '2024-07-30'}, excluded_embed_metadata_keys=['file_name', 'file_type', 'file_size', 'creation_date', 'last_modified_date', 'last_accessed_date'], excluded_llm_metadata_keys=['file_name', 'file_type', 'file_size', 'creation_date', 'last_modified_date', 'last_accessed_date'], relationships={}, text='कार्डसओ  - हाटस \\nरेजस्परेटरी  - लंग्स \\nएन्युरन्स  - सहनशीलता  (स्टॅजमना ) \\n \\nहाटस और लंग्स की कायसरत  स्केलेटल  मसल्स  को जिना \\nथके, लम्प्िे समय तक ऑक्सी न  युक्त रक्त प्रदान करने \\nकी क्षमता  । \\n \\n \\nटूल िॉर इम्प्प्रूवमेन्ट : कार्डसओ  एक्सरसाइ ेस  \\n                             उदाहरण: \\n‣ ॉजगंग  \\n‣साइजक्लंग  \\n‣जस्वजमन्ग  इत्याफ़द . Cardio  - Heart  \\nRespiratory  - Lungs  \\nEndurance - Ability to Endure (Stamina)  \\n \\nAbility  of the heart  and lungs  to provide  \\noxygenated  blood  to the working  skeletal  \\nmuscles  for a prolonged  period  without  \\ngetting  fatigued . \\n \\nTool for Improvement : Cardio exercises  \\n               Examples:  \\n‣Jogging  \\n‣Cycling  \\n‣Swimming etc.  \\n \\n \\nCardiorespiratory Endurance  \\nकार्डसओरेजस्परेटरी  एन्युरन्स  ', mimetype='text/plain', start_char_idx=None, end_char_idx=None, text_template='{metadata_str}\\n\\n{content}', metadata_template='{key}: {value}', metadata_seperator='\\n'),\n",
       " Document(id_='85f6efba-ae82-40c1-a9f1-3b62578ed6c4', embedding=None, metadata={'page_label': '15', 'file_name': 'Intro to Fitness.pdf', 'file_path': 'C:\\\\Users\\\\Admin\\\\file\\\\Intro to Fitness.pdf', 'file_type': 'application/pdf', 'file_size': 2534718, 'creation_date': '2024-08-05', 'last_modified_date': '2024-07-30'}, excluded_embed_metadata_keys=['file_name', 'file_type', 'file_size', 'creation_date', 'last_modified_date', 'last_accessed_date'], excluded_llm_metadata_keys=['file_name', 'file_type', 'file_size', 'creation_date', 'last_modified_date', 'last_accessed_date'], relationships={}, text='Ability of skeletal muscles to contract sub \\nmaximally for a prolonged period without \\ngetting fatigued.  \\n \\nMuscular Endurance is activity specific.  \\n \\nTool for Improvement : Specific Cardio \\nexercises  \\nExamples:  \\n‣Jogging to improve endurance in jogging  \\n‣Cycling to improve endurance in Cycling  \\n‣Swimming to improve endurance in \\nSwimming Etc.    \\nMuscular endurance  \\n मस्क्युलर  एन्युरन्स  \\nस्केलेटल  मसल्स  की लम्प्िे समय तक, जिना थके, सि-\\nमॅजक्समल कॉन्ट्रॅक्शन करते रहने की क्षमता  है | \\n \\n \\nमस्क्युलर  एन्युरन्स  एजक्टजवटी  स्पेजसफ़िक  है| \\n \\nटूल िॉर इम्प्प्रूवमेन्ट: स्पेजसफ़िक  (जवजशष्ट ) कार्डसओ  \\nएक्सरसाइ ेस   \\nउदाहरण :  \\n‣ ॉजगंग में एन्युरन्स में सुधार के जलए  ॉजगंग  \\n‣साइजक्लंग में एन्युरन्स में सुधार के जलए साइजक्लंग  \\n‣जस्वजमन्ग में एन्युरन्स में सुधार के जलए जस्वजमन्ग  \\nइत्याफ़द .  ', mimetype='text/plain', start_char_idx=None, end_char_idx=None, text_template='{metadata_str}\\n\\n{content}', metadata_template='{key}: {value}', metadata_seperator='\\n'),\n",
       " Document(id_='16ee5d05-c569-49fd-a790-689e9d1480b1', embedding=None, metadata={'page_label': '16', 'file_name': 'Intro to Fitness.pdf', 'file_path': 'C:\\\\Users\\\\Admin\\\\file\\\\Intro to Fitness.pdf', 'file_type': 'application/pdf', 'file_size': 2534718, 'creation_date': '2024-08-05', 'last_modified_date': '2024-07-30'}, excluded_embed_metadata_keys=['file_name', 'file_type', 'file_size', 'creation_date', 'last_modified_date', 'last_accessed_date'], excluded_llm_metadata_keys=['file_name', 'file_type', 'file_size', 'creation_date', 'last_modified_date', 'last_accessed_date'], relationships={}, text='Musculoskeletal strength  \\nमस्क्युलोस्केलेटल  स्ट्रेन्थ  \\n', mimetype='text/plain', start_char_idx=None, end_char_idx=None, text_template='{metadata_str}\\n\\n{content}', metadata_template='{key}: {value}', metadata_seperator='\\n'),\n",
       " Document(id_='66e2972c-cede-42f6-a0b4-f05f8caeab92', embedding=None, metadata={'page_label': '17', 'file_name': 'Intro to Fitness.pdf', 'file_path': 'C:\\\\Users\\\\Admin\\\\file\\\\Intro to Fitness.pdf', 'file_type': 'application/pdf', 'file_size': 2534718, 'creation_date': '2024-08-05', 'last_modified_date': '2024-07-30'}, excluded_embed_metadata_keys=['file_name', 'file_type', 'file_size', 'creation_date', 'last_modified_date', 'last_accessed_date'], excluded_llm_metadata_keys=['file_name', 'file_type', 'file_size', 'creation_date', 'last_modified_date', 'last_accessed_date'], relationships={}, text='Muscular Strength:  It refers to the \\namount of force skeletal muscles can \\nproduce with single maximal contraction.  \\n \\nMusculoskeletal Strength: It is the \\ncombined intrinsic strength of muscles, \\nbones, tendons and ligaments.   \\n \\nTool for Improvement: This can be \\ndeveloped through intense weight \\ntraining.  \\nMusculoskeletal strength  \\n मस्क्युलोस्केलेटल  स्ट्रेन्थ  \\nमस्क्युलर  स्ट्रेन्थ: यह स्केलेटल  मसल्स  की एक \\nमॅजक्समल  कॉंट्रॅक्शन  में िल (िोसस) लगाने  की मारा \\nको संदर्र्सत  करता है । \\n \\nमस्क्युलोस्केलेटल  स्ट्रेन्थ: यह मसल्स , िोन्स, टेंडन्स \\nऔर जलगमेन्र्टस  की संयुक्त अन्तर्नसजहत ताकत  है। \\n  \\n \\nटूल िॉर इम्प्प्रूवमेन्ट: इसे इन्टेन्स वेट ट्रेजनंग के \\nमाध्यम से जवकजसत फ़कया  ा सकता है। ', mimetype='text/plain', start_char_idx=None, end_char_idx=None, text_template='{metadata_str}\\n\\n{content}', metadata_template='{key}: {value}', metadata_seperator='\\n'),\n",
       " Document(id_='fa3cdfcb-b810-43d0-881d-5666616a4b22', embedding=None, metadata={'page_label': '18', 'file_name': 'Intro to Fitness.pdf', 'file_path': 'C:\\\\Users\\\\Admin\\\\file\\\\Intro to Fitness.pdf', 'file_type': 'application/pdf', 'file_size': 2534718, 'creation_date': '2024-08-05', 'last_modified_date': '2024-07-30'}, excluded_embed_metadata_keys=['file_name', 'file_type', 'file_size', 'creation_date', 'last_modified_date', 'last_accessed_date'], excluded_llm_metadata_keys=['file_name', 'file_type', 'file_size', 'creation_date', 'last_modified_date', 'last_accessed_date'], relationships={}, text='Weight training and Kids   \\nवेट ट्रेजनंग और िच्चे  \\nMyth:  \\n‣Weight training will stunt the height.  \\n‣Hanging will increase the height.  \\n \\nFact:  \\n‣Height is genetically determined.  \\n‣Nutrition & hormones are responsible to \\nregulate height.  \\n \\nConclusion: Weight training can neither \\nincrease nor decrease the height.  \\nजमथक :  \\n‣वेट ट्रेजनंग हाइट को स्टंट करेगी (िढ़ने से रोकेगी )। \\n‣लटकने  से हाइट िढ़ेगी । \\n \\nत्य:   \\n‣हाइट  ेनेरटक  रूप से जनधासररत  होती है । \\n‣न्यूरट्रशन  और हॉमोन्स  हाइट को जनयंजरत करने के \\nजलए ज म्प्मेदार  हैं । \\n \\nजनष्कषस : वेट ट्रेजनंग न तो हाइट को िढ़ा सकता  है और न \\nही र्टा सकता  है । \\n', mimetype='text/plain', start_char_idx=None, end_char_idx=None, text_template='{metadata_str}\\n\\n{content}', metadata_template='{key}: {value}', metadata_seperator='\\n'),\n",
       " Document(id_='28873e10-8fb3-4bf2-9715-477bf7164336', embedding=None, metadata={'page_label': '19', 'file_name': 'Intro to Fitness.pdf', 'file_path': 'C:\\\\Users\\\\Admin\\\\file\\\\Intro to Fitness.pdf', 'file_type': 'application/pdf', 'file_size': 2534718, 'creation_date': '2024-08-05', 'last_modified_date': '2024-07-30'}, excluded_embed_metadata_keys=['file_name', 'file_type', 'file_size', 'creation_date', 'last_modified_date', 'last_accessed_date'], excluded_llm_metadata_keys=['file_name', 'file_type', 'file_size', 'creation_date', 'last_modified_date', 'last_accessed_date'], relationships={}, text='जमथक :  \\n‣सीजनयर  जसटीज़न्स  को वेट ट्रेजनंग नहीं करनी चाजहए। \\n \\nत्य:  \\n‣साकोपीजनया को रोकने के जलए उम्र िढ़ने के साथ वेट ट्रेजनंग की \\nआवश्यकता िढ़  ाती है । Myth :  \\n‣Senior citizens should not do weight training . \\n \\nFact:  \\n‣Need of weight training increases with increase in \\nage to prevent sarcopenia.  \\nWeight Training and Senior Citizens  \\nवेट ट्रेजनंग और सीजनयर जसटीज़न्स  \\n', mimetype='text/plain', start_char_idx=None, end_char_idx=None, text_template='{metadata_str}\\n\\n{content}', metadata_template='{key}: {value}', metadata_seperator='\\n'),\n",
       " Document(id_='3cf3bc19-b1c2-4d4b-a445-7f69dca2b2ae', embedding=None, metadata={'page_label': '20', 'file_name': 'Intro to Fitness.pdf', 'file_path': 'C:\\\\Users\\\\Admin\\\\file\\\\Intro to Fitness.pdf', 'file_type': 'application/pdf', 'file_size': 2534718, 'creation_date': '2024-08-05', 'last_modified_date': '2024-07-30'}, excluded_embed_metadata_keys=['file_name', 'file_type', 'file_size', 'creation_date', 'last_modified_date', 'last_accessed_date'], excluded_llm_metadata_keys=['file_name', 'file_type', 'file_size', 'creation_date', 'last_modified_date', 'last_accessed_date'], relationships={}, text='Myth :  \\n‣Lifting weights will make a woman look like \\na man \\n \\nFact:  \\n‣The physical appearance of a male and a \\nfemale depends on sex hormones; not on \\nexercise. No form of exercise will make a \\nman look like a woman or a woman look \\nlike a man.  \\nजमथक :  \\n‣व न उठाने से मजहलाएाँ  पुरुषोंकी  तरह फ़दखने  लगेगी  । \\n \\nत्य:  \\n‣एक पुरुष और एक मजहला  की शारीररक  फ़दखावट  \\nसेक्स हॉमोन्स  पर जनर्सर करती है; एक्सरसाइ  पर \\nनहीं। फ़कसी र्ी प्रकार के एक्सरसाइ  से कोई र्ी \\nपुरुष मजहला की तरह या मजहला पुरुष की तरह नहीं \\nफ़दख सकती।  \\nWeight training and Women  \\nवेट ट्रेजनंग और मजहलाएाँ  \\n', mimetype='text/plain', start_char_idx=None, end_char_idx=None, text_template='{metadata_str}\\n\\n{content}', metadata_template='{key}: {value}', metadata_seperator='\\n'),\n",
       " Document(id_='c802af01-0811-45de-8771-c3f92be4af03', embedding=None, metadata={'page_label': '21', 'file_name': 'Intro to Fitness.pdf', 'file_path': 'C:\\\\Users\\\\Admin\\\\file\\\\Intro to Fitness.pdf', 'file_type': 'application/pdf', 'file_size': 2534718, 'creation_date': '2024-08-05', 'last_modified_date': '2024-07-30'}, excluded_embed_metadata_keys=['file_name', 'file_type', 'file_size', 'creation_date', 'last_modified_date', 'last_accessed_date'], excluded_llm_metadata_keys=['file_name', 'file_type', 'file_size', 'creation_date', 'last_modified_date', 'last_accessed_date'], relationships={}, text='Benefits of Weight Training to Women  \\n•Improvement in strength performance.  \\n•Weight training will help increase lean body mass leading to an \\nimproved body composition & aesthetics.  \\n•Prevention of Osteoporosis.  \\n•Natural child birth is relatively easier in case of stronger women.  \\n•Women become physically independent for daily tasks.  \\nमजहलाओं  को वेट ट्रेजनंग के िायदे  \\n•स्ट्रेन्थ परिॉमसन्स में सुधार  आता है ।  \\n•वेट ट्रेजनंग से लीन िॉडी मास को िढ़ाने में मदद जमलती  है ज ससे  िॉडी कम्प्पोजज़शन  \\nऔर एस्थेरटक्स  में सुधार  होगा ।  \\n•ऑजस्टओपोरोजसस  से िचाव  । \\n•ताकतवर मजहलाओंके मामले  में प्राकृजतक तरीके से िच्चे का  न्म तुलनात्मक रूप से \\nआसान होता है  । \\n•यह उन्हें दैजनक  कायों के जलए शारीररक  रूप से स्वतंर  िनने में र्ी मदद करता है । ', mimetype='text/plain', start_char_idx=None, end_char_idx=None, text_template='{metadata_str}\\n\\n{content}', metadata_template='{key}: {value}', metadata_seperator='\\n'),\n",
       " Document(id_='348e684d-0401-49c3-8af4-e5c7d4800192', embedding=None, metadata={'page_label': '22', 'file_name': 'Intro to Fitness.pdf', 'file_path': 'C:\\\\Users\\\\Admin\\\\file\\\\Intro to Fitness.pdf', 'file_type': 'application/pdf', 'file_size': 2534718, 'creation_date': '2024-08-05', 'last_modified_date': '2024-07-30'}, excluded_embed_metadata_keys=['file_name', 'file_type', 'file_size', 'creation_date', 'last_modified_date', 'last_accessed_date'], excluded_llm_metadata_keys=['file_name', 'file_type', 'file_size', 'creation_date', 'last_modified_date', 'last_accessed_date'], relationships={}, text='Flexibility  \\nफ़्लेजक्सजिजलटी  \\n', mimetype='text/plain', start_char_idx=None, end_char_idx=None, text_template='{metadata_str}\\n\\n{content}', metadata_template='{key}: {value}', metadata_seperator='\\n'),\n",
       " Document(id_='a1dd109a-d91c-4c39-a365-50c013630590', embedding=None, metadata={'page_label': '23', 'file_name': 'Intro to Fitness.pdf', 'file_path': 'C:\\\\Users\\\\Admin\\\\file\\\\Intro to Fitness.pdf', 'file_type': 'application/pdf', 'file_size': 2534718, 'creation_date': '2024-08-05', 'last_modified_date': '2024-07-30'}, excluded_embed_metadata_keys=['file_name', 'file_type', 'file_size', 'creation_date', 'last_modified_date', 'last_accessed_date'], excluded_llm_metadata_keys=['file_name', 'file_type', 'file_size', 'creation_date', 'last_modified_date', 'last_accessed_date'], relationships={}, text='Definition:  It is the ability of the soft \\ntissues (muscles, tendons, ligaments and \\nfascia) to lengthen passively through full \\nrange of motion .  \\n \\nIt depends on two properties of muscles:   \\n1.Extensibility : Ability to extend or \\nstretch.  \\n2.Elasticity : Ability to return to original \\nlength from a stretched position.  \\n  \\nMobility:  It is the ability of a joint to move \\nactively and freely through full range of \\nmotion without any pain or discomfort . \\n \\n \\nTool for improvement : Stretching  \\n  \\nFlexibility  \\n फ़्लेजक्सजिजलटी  \\nव्याख्या  : यह सॉफ़्ट रटशूज़ (मसल्स , टेंडन्स, जलगमेंर्टस \\nऔर िेजशया ) की पॅजसवली (जनजष्िय रूप से ) पूरी रें  \\nऑि मोशन में खींचे  ाने की क्षमता है ।  \\n \\n \\nयह मसल के दो गुणों पर जनर्सर  करती है:  \\n1.एक्स्टेन्सीजिजलटी : खींचे  ाने की क्षमता। \\n \\n2.इलाजस्टजसटी : जखंचाव  की जस्थजत  से मूल लंिाई  \\nपर लौटने की क्षमता। \\n  \\nमोजिजलटी : यह  ॉइंर्टस की फ़कसी र्ी ददस या परेशानी \\nके जिना, ऍक्टीवली (सफ़िय रूप से ) और फ़्रीली \\n(स्वतंर रूप से ), पूरी रें  ऑि मोशन में मूवमेंट करने \\nकी क्षमता है । \\n \\nटूल िॉर इम्प्प्रूवमेन्ट : स्ट्रेजचंग  \\n \\n  ', mimetype='text/plain', start_char_idx=None, end_char_idx=None, text_template='{metadata_str}\\n\\n{content}', metadata_template='{key}: {value}', metadata_seperator='\\n'),\n",
       " Document(id_='eb0c94fc-7c0d-461e-89cb-65283296781a', embedding=None, metadata={'page_label': '24', 'file_name': 'Intro to Fitness.pdf', 'file_path': 'C:\\\\Users\\\\Admin\\\\file\\\\Intro to Fitness.pdf', 'file_type': 'application/pdf', 'file_size': 2534718, 'creation_date': '2024-08-05', 'last_modified_date': '2024-07-30'}, excluded_embed_metadata_keys=['file_name', 'file_type', 'file_size', 'creation_date', 'last_modified_date', 'last_accessed_date'], excluded_llm_metadata_keys=['file_name', 'file_type', 'file_size', 'creation_date', 'last_modified_date', 'last_accessed_date'], relationships={}, text='•Improvement in range of motion.  \\n \\n•Helps maintain normal posture.  \\n \\n•Decreased risk of injuries.  \\n \\n• रें  ऑि मोशन  में सुधार  । \\n \\n• सामान्य  पोश्चर  िनाए  रखने में मदद करता है । \\n \\n• इंज्युरीज़  की ररस्क कम हो  ाती है । \\n  \\nBenefits of Stretching  \\nस्ट्रेजचंग  के िायदे   ', mimetype='text/plain', start_char_idx=None, end_char_idx=None, text_template='{metadata_str}\\n\\n{content}', metadata_template='{key}: {value}', metadata_seperator='\\n'),\n",
       " Document(id_='42e33233-9a00-4ec8-862c-f5e668338d35', embedding=None, metadata={'page_label': '25', 'file_name': 'Intro to Fitness.pdf', 'file_path': 'C:\\\\Users\\\\Admin\\\\file\\\\Intro to Fitness.pdf', 'file_type': 'application/pdf', 'file_size': 2534718, 'creation_date': '2024-08-05', 'last_modified_date': '2024-07-30'}, excluded_embed_metadata_keys=['file_name', 'file_type', 'file_size', 'creation_date', 'last_modified_date', 'last_accessed_date'], excluded_llm_metadata_keys=['file_name', 'file_type', 'file_size', 'creation_date', 'last_modified_date', 'last_accessed_date'], relationships={}, text='Ideal body composition   \\nआइजडयल  िॉडी कम्प्पोजज़शन  \\n', mimetype='text/plain', start_char_idx=None, end_char_idx=None, text_template='{metadata_str}\\n\\n{content}', metadata_template='{key}: {value}', metadata_seperator='\\n'),\n",
       " Document(id_='fc7e203c-2a7b-4892-ab17-7bd83fefd1a8', embedding=None, metadata={'page_label': '26', 'file_name': 'Intro to Fitness.pdf', 'file_path': 'C:\\\\Users\\\\Admin\\\\file\\\\Intro to Fitness.pdf', 'file_type': 'application/pdf', 'file_size': 2534718, 'creation_date': '2024-08-05', 'last_modified_date': '2024-07-30'}, excluded_embed_metadata_keys=['file_name', 'file_type', 'file_size', 'creation_date', 'last_modified_date', 'last_accessed_date'], excluded_llm_metadata_keys=['file_name', 'file_type', 'file_size', 'creation_date', 'last_modified_date', 'last_accessed_date'], relationships={}, text='Ideal ratio between  “Lean Body \\nMass” & “body fat ”. \\n \\nIdeal fat percentage in human body:   \\nMale: Below 15%  \\nFemale: Below 20% \\n \\nTool for improvement : Hypertrophy \\ntripod  \\n \\n \\n लीन िॉडी मास और िॅट मास के जिच का  \\nआइजडयल  रेजशओ I \\n \\nमानवी  शरीर में आदशस  िॅट परसेन्ट  : \\n• मेल: 15% से कम \\n• िीमेल : 20% से कम \\n \\nटूल िॉर इम्प्प्रूवमेन्ट : हाइपरट्रॉिी  ट्राइपॉड  \\nProgressive overload  \\nप्रोग्रेजसव ओवरलोड  \\nHypertrophy tripod  \\nहाइपरट्रॉिी  ट्राइपॉड   \\nPerformance nutrition  \\nपरिॉमसन्स न्यूरट्रशन  Rest & recovery  \\nरेस्ट और ररकवरी \\nIdeal body Composition  \\n आइजडयल  िॉडी कम्प्पोजज़शन  ', mimetype='text/plain', start_char_idx=None, end_char_idx=None, text_template='{metadata_str}\\n\\n{content}', metadata_template='{key}: {value}', metadata_seperator='\\n'),\n",
       " Document(id_='7c8be085-86de-4a2f-81c2-d6a6d1301370', embedding=None, metadata={'page_label': '27', 'file_name': 'Intro to Fitness.pdf', 'file_path': 'C:\\\\Users\\\\Admin\\\\file\\\\Intro to Fitness.pdf', 'file_type': 'application/pdf', 'file_size': 2534718, 'creation_date': '2024-08-05', 'last_modified_date': '2024-07-30'}, excluded_embed_metadata_keys=['file_name', 'file_type', 'file_size', 'creation_date', 'last_modified_date', 'last_accessed_date'], excluded_llm_metadata_keys=['file_name', 'file_type', 'file_size', 'creation_date', 'last_modified_date', 'last_accessed_date'], relationships={}, text='', mimetype='text/plain', start_char_idx=None, end_char_idx=None, text_template='{metadata_str}\\n\\n{content}', metadata_template='{key}: {value}', metadata_seperator='\\n'),\n",
       " Document(id_='0300a151-7be7-4611-9489-23ab984d58fe', embedding=None, metadata={'page_label': '28', 'file_name': 'Intro to Fitness.pdf', 'file_path': 'C:\\\\Users\\\\Admin\\\\file\\\\Intro to Fitness.pdf', 'file_type': 'application/pdf', 'file_size': 2534718, 'creation_date': '2024-08-05', 'last_modified_date': '2024-07-30'}, excluded_embed_metadata_keys=['file_name', 'file_type', 'file_size', 'creation_date', 'last_modified_date', 'last_accessed_date'], excluded_llm_metadata_keys=['file_name', 'file_type', 'file_size', 'creation_date', 'last_modified_date', 'last_accessed_date'], relationships={}, text='Assignment - 1 \\nCounsel the following people on the \\nimportance of GPP, Anti -ageing \\nlifestyle and its significance in quality \\nof life. Counselling to be done for the \\nfollowing:  \\n \\n1.One person belonging to Geriatric \\ncategory (above 65 years of age)  \\n2.One woman above age of 45 \\nyears  \\n3.One boy/girl belonging to age \\nbracket of 18-25 years  इन लोगों से  ी.पी.पी. की महत्व  के िारे में, \\nएन्टी एज न्ग  लाइिस्टाइल  और उसकी   ीवन \\nकी गुणविा  में महत्व  िारे में समझाएं : \\n \\n \\n \\n1. एक  ेररएरट्रक  श्रेणी के इंसान  से (65 वषस के \\nउपर) \\n2. एक मजहला  45 वषस के उपर \\n \\n3. एक युवक / युवती   ो 18-25 वषस के हों \\nअसाइनमेन्ट  - 1 ', mimetype='text/plain', start_char_idx=None, end_char_idx=None, text_template='{metadata_str}\\n\\n{content}', metadata_template='{key}: {value}', metadata_seperator='\\n'),\n",
       " Document(id_='c866e851-5051-404f-996a-9e717e5e9df3', embedding=None, metadata={'page_label': '29', 'file_name': 'Intro to Fitness.pdf', 'file_path': 'C:\\\\Users\\\\Admin\\\\file\\\\Intro to Fitness.pdf', 'file_type': 'application/pdf', 'file_size': 2534718, 'creation_date': '2024-08-05', 'last_modified_date': '2024-07-30'}, excluded_embed_metadata_keys=['file_name', 'file_type', 'file_size', 'creation_date', 'last_modified_date', 'last_accessed_date'], excluded_llm_metadata_keys=['file_name', 'file_type', 'file_size', 'creation_date', 'last_modified_date', 'last_accessed_date'], relationships={}, text='Assignment - 2 \\n•Counsel 5 people who regularly run \\non the jogging track of the park \\nabout the importance of strength and \\nits carry over effect to running  \\n \\n•Counsel 5 people, who only do \\nstrength training 6 days a week  and \\ntotally neglect flexibility and \\nendurance training  •ऐसे ५ लोग  ो जनयजमत  रूप से  ॉजगंग  करते \\nहैं उन्हें स्ट्रेन्थ ट्रेजनंग और उसका   ॉजगंग  पर \\nहोने वाले प्रर्ाव  के िारें में काउंसल  करें । \\n \\n \\n•ऐसे ५ लोग  ो सप्ताह  के ६ फ़दन केवल स्ट्रेन्थ \\nट्रेजनंग करते हैं उन्हें फ़्लेजक्सजिजलटी  और \\nकार्डसओ  ट्रेजनंग के िायदे  के िारें में काउंसल  \\nकरें । \\n \\nअसाइनमेन्ट  – 2 ', mimetype='text/plain', start_char_idx=None, end_char_idx=None, text_template='{metadata_str}\\n\\n{content}', metadata_template='{key}: {value}', metadata_seperator='\\n')]"
      ]
     },
     "execution_count": 1,
     "metadata": {},
     "output_type": "execute_result"
    }
   ],
   "source": [
    "from llama_index.core import SimpleDirectoryReader, VectorStoreIndex\n",
    "from llama_index.core import ServiceContext\n",
    "from llama_index.core import StorageContext, load_index_from_storage\n",
    "import os\n",
    "documents = SimpleDirectoryReader(\"file\").load_data()\n",
    "documents"
   ]
  },
  {
   "cell_type": "code",
   "execution_count": 2,
   "id": "e2388ec6-6160-49bf-aa63-4094042bb5b9",
   "metadata": {},
   "outputs": [
    {
     "name": "stderr",
     "output_type": "stream",
     "text": [
      "C:\\Users\\Admin\\AppData\\Local\\Temp\\ipykernel_12628\\898608445.py:3: LangChainDeprecationWarning: The class `HuggingFaceHub` was deprecated in LangChain 0.0.21 and will be removed in 1.0. An updated version of the class exists in the :class:`~langchain-huggingface package and should be used instead. To use it run `pip install -U :class:`~langchain-huggingface` and import as `from :class:`~langchain_huggingface import HuggingFaceEndpoint``.\n",
      "  llm = HuggingFaceHub(repo_id='tiiuae/falcon-7b-instruct', huggingfacehub_api_token=huggingfacehub_api_token)\n",
      "C:\\Users\\Admin\\anaconda3\\envs\\Lang\\Lib\\site-packages\\tqdm\\auto.py:21: TqdmWarning: IProgress not found. Please update jupyter and ipywidgets. See https://ipywidgets.readthedocs.io/en/stable/user_install.html\n",
      "  from .autonotebook import tqdm as notebook_tqdm\n"
     ]
    }
   ],
   "source": [
    "from langchain_community.llms import HuggingFaceHub\n",
    "huggingfacehub_api_token = 'key'\n",
    "llm = HuggingFaceHub(repo_id='tiiuae/falcon-7b-instruct', huggingfacehub_api_token=huggingfacehub_api_token)"
   ]
  },
  {
   "cell_type": "code",
   "execution_count": 3,
   "id": "65e85904-0ea2-425d-8780-e85c83f97848",
   "metadata": {},
   "outputs": [
    {
     "name": "stderr",
     "output_type": "stream",
     "text": [
      "C:\\Users\\Admin\\AppData\\Local\\Temp\\ipykernel_12628\\1538709652.py:6: LangChainDeprecationWarning: The class `HuggingFaceEmbeddings` was deprecated in LangChain 0.2.2 and will be removed in 1.0. An updated version of the class exists in the :class:`~langchain-huggingface package and should be used instead. To use it run `pip install -U :class:`~langchain-huggingface` and import as `from :class:`~langchain_huggingface import HuggingFaceEmbeddings``.\n",
      "  hf = HuggingFaceEmbeddings(\n",
      "C:\\Users\\Admin\\anaconda3\\envs\\Lang\\Lib\\site-packages\\transformers\\tokenization_utils_base.py:1617: FutureWarning: `clean_up_tokenization_spaces` was not set. It will be set to `True` by default. This behavior will be deprecated in transformers v4.45, and will be then set to `False` by default. For more details check this issue: https://github.com/huggingface/transformers/issues/31884\n",
      "  warnings.warn(\n"
     ]
    }
   ],
   "source": [
    "from langchain_community.embeddings import HuggingFaceEmbeddings\n",
    "\n",
    "model_name = \"sentence-transformers/all-mpnet-base-v2\"\n",
    "model_kwargs = {'device': 'cpu'}\n",
    "encode_kwargs = {'normalize_embeddings': False}\n",
    "hf = HuggingFaceEmbeddings(\n",
    "    model_name=model_name,\n",
    "    model_kwargs=model_kwargs,\n",
    "    encode_kwargs=encode_kwargs\n",
    ")"
   ]
  },
  {
   "cell_type": "code",
   "execution_count": 4,
   "id": "294b0e00-f9a3-4431-8f00-102b7aee6ada",
   "metadata": {},
   "outputs": [
    {
     "ename": "ValueError",
     "evalue": "ServiceContext is deprecated. Use llama_index.settings.Settings instead, or pass in modules to local functions/methods/interfaces.\nSee the docs for updated usage/migration: \nhttps://docs.llamaindex.ai/en/stable/module_guides/supporting_modules/service_context_migration/",
     "output_type": "error",
     "traceback": [
      "\u001b[1;31m---------------------------------------------------------------------------\u001b[0m",
      "\u001b[1;31mValueError\u001b[0m                                Traceback (most recent call last)",
      "Cell \u001b[1;32mIn[4], line 1\u001b[0m\n\u001b[1;32m----> 1\u001b[0m service_context \u001b[38;5;241m=\u001b[39m ServiceContext\u001b[38;5;241m.\u001b[39mfrom_defaults(llm \u001b[38;5;241m=\u001b[39m llm, embed_model\u001b[38;5;241m=\u001b[39mhf, chunk_size \u001b[38;5;241m=\u001b[39m \u001b[38;5;241m800\u001b[39m, chunk_overlap\u001b[38;5;241m=\u001b[39m\u001b[38;5;241m20\u001b[39m)\n",
      "File \u001b[1;32m~\\anaconda3\\envs\\Lang\\Lib\\site-packages\\llama_index\\core\\service_context.py:31\u001b[0m, in \u001b[0;36mServiceContext.from_defaults\u001b[1;34m(cls, **kwargs)\u001b[0m\n\u001b[0;32m     20\u001b[0m \u001b[38;5;129m@classmethod\u001b[39m\n\u001b[0;32m     21\u001b[0m \u001b[38;5;28;01mdef\u001b[39;00m \u001b[38;5;21mfrom_defaults\u001b[39m(\n\u001b[0;32m     22\u001b[0m     \u001b[38;5;28mcls\u001b[39m,\n\u001b[0;32m     23\u001b[0m     \u001b[38;5;241m*\u001b[39m\u001b[38;5;241m*\u001b[39mkwargs: Any,\n\u001b[0;32m     24\u001b[0m ) \u001b[38;5;241m-\u001b[39m\u001b[38;5;241m>\u001b[39m \u001b[38;5;124m\"\u001b[39m\u001b[38;5;124mServiceContext\u001b[39m\u001b[38;5;124m\"\u001b[39m:\n\u001b[0;32m     25\u001b[0m \u001b[38;5;250m    \u001b[39m\u001b[38;5;124;03m\"\"\"Create a ServiceContext from defaults.\u001b[39;00m\n\u001b[0;32m     26\u001b[0m \n\u001b[0;32m     27\u001b[0m \u001b[38;5;124;03m    NOTE: Deprecated, use llama_index.settings.Settings instead or pass in\u001b[39;00m\n\u001b[0;32m     28\u001b[0m \u001b[38;5;124;03m    modules to local functions/methods/interfaces.\u001b[39;00m\n\u001b[0;32m     29\u001b[0m \n\u001b[0;32m     30\u001b[0m \u001b[38;5;124;03m    \"\"\"\u001b[39;00m\n\u001b[1;32m---> 31\u001b[0m     \u001b[38;5;28;01mraise\u001b[39;00m \u001b[38;5;167;01mValueError\u001b[39;00m(\n\u001b[0;32m     32\u001b[0m         \u001b[38;5;124m\"\u001b[39m\u001b[38;5;124mServiceContext is deprecated. Use llama_index.settings.Settings instead, \u001b[39m\u001b[38;5;124m\"\u001b[39m\n\u001b[0;32m     33\u001b[0m         \u001b[38;5;124m\"\u001b[39m\u001b[38;5;124mor pass in modules to local functions/methods/interfaces.\u001b[39m\u001b[38;5;130;01m\\n\u001b[39;00m\u001b[38;5;124m\"\u001b[39m\n\u001b[0;32m     34\u001b[0m         \u001b[38;5;124m\"\u001b[39m\u001b[38;5;124mSee the docs for updated usage/migration: \u001b[39m\u001b[38;5;130;01m\\n\u001b[39;00m\u001b[38;5;124m\"\u001b[39m\n\u001b[0;32m     35\u001b[0m         \u001b[38;5;124m\"\u001b[39m\u001b[38;5;124mhttps://docs.llamaindex.ai/en/stable/module_guides/supporting_modules/service_context_migration/\u001b[39m\u001b[38;5;124m\"\u001b[39m\n\u001b[0;32m     36\u001b[0m     )\n",
      "\u001b[1;31mValueError\u001b[0m: ServiceContext is deprecated. Use llama_index.settings.Settings instead, or pass in modules to local functions/methods/interfaces.\nSee the docs for updated usage/migration: \nhttps://docs.llamaindex.ai/en/stable/module_guides/supporting_modules/service_context_migration/"
     ]
    }
   ],
   "source": [
    "service_context = ServiceContext.from_defaults(llm = llm, embed_model=hf, chunk_size = 800, chunk_overlap=20)"
   ]
  },
  {
   "cell_type": "code",
   "execution_count": 5,
   "id": "1fe59063-e0d9-4428-84cb-aad1a3252a8d",
   "metadata": {},
   "outputs": [],
   "source": [
    "from llama_index.core import Settings"
   ]
  },
  {
   "cell_type": "code",
   "execution_count": 6,
   "id": "fad71373-7168-4026-be36-23d936f6bad5",
   "metadata": {},
   "outputs": [],
   "source": [
    "Settings.llm = llm\n",
    "Settings.embed_model = hf"
   ]
  },
  {
   "cell_type": "code",
   "execution_count": 13,
   "id": "3bfc2b64-f496-4541-8df2-456ca5d3ad62",
   "metadata": {},
   "outputs": [],
   "source": [
    "from llama_index.core.node_parser import SentenceSplitter\n",
    "Settings.node_parser = SentenceSplitter(chunk_size=512, chunk_overlap=20)"
   ]
  },
  {
   "cell_type": "code",
   "execution_count": 14,
   "id": "57f274be-a523-47b8-9a51-8140beadfdb5",
   "metadata": {},
   "outputs": [],
   "source": [
    "index = VectorStoreIndex.from_documents(documents, service_context= Settings)"
   ]
  },
  {
   "cell_type": "code",
   "execution_count": 15,
   "id": "f96ca860-4c8a-4904-85c8-37b3a0e8bf11",
   "metadata": {},
   "outputs": [],
   "source": [
    "query_engine = index.as_query_engine()"
   ]
  },
  {
   "cell_type": "code",
   "execution_count": 16,
   "id": "c7742223-2815-4337-bf40-3f5106c95d26",
   "metadata": {},
   "outputs": [
    {
     "name": "stderr",
     "output_type": "stream",
     "text": [
      "C:\\Users\\Admin\\anaconda3\\envs\\Lang\\Lib\\site-packages\\llama_index\\llms\\langchain\\base.py:106: LangChainDeprecationWarning: The method `BaseLLM.predict` was deprecated in langchain-core 0.1.7 and will be removed in 1.0. Use :meth:`~invoke` instead.\n",
      "  output_str = self._llm.predict(prompt, **kwargs)\n"
     ]
    },
    {
     "data": {
      "text/plain": [
       "Response(response=\"Context information is below.\\n---------------------\\npage_label: 5\\nfile_path: C:\\\\Users\\\\Admin\\\\file\\\\Intro to Fitness.pdf\\n\\nFitness  \\nफ़िटनेस \\n•Fitness is a measure of physical \\ncapability.  \\n \\n•Fitness is task specific.                \\nAre you fit for a particular task ? •फ़िटनेस शरीर की कायसक्षमता  का मापदंड       \\nहै। \\n \\n•फ़िटनेस टास्क स्पेजसफ़िक  होती है।             \\nक्या आप फ़कसी जवशेष  कायस के जलए फ़िट है?\\n\\npage_label: 14\\nfile_path: C:\\\\Users\\\\Admin\\\\file\\\\Intro to Fitness.pdf\\n\\nकार्डसओ  - हाटस \\nरेजस्परेटरी  - लंग्स \\nएन्युरन्स  - सहनशीलता  (स्टॅजमना ) \\n \\nहाटस और लंग्स की कायसरत  स्केलेटल  मसल्स  को जिना \\nथके, लम्प्िे समय तक ऑक्सी न  युक्त रक्त प्रदान करने \\nकी क्षमता  । \\n \\n \\nटूल िॉर इम्प्प्रूवमेन्ट : कार्डसओ  एक्सरसाइ ेस  \\n                             उदाहरण: \\n‣ ॉजगंग  \\n‣साइजक्लंग  \\n‣जस्वजमन्ग  इत्याफ़द . Cardio  - Heart  \\nRespiratory  - Lungs  \\nEndurance - Ability to Endure (Stamina)  \\n \\nAbility  of the heart  and lungs  to provide  \\noxygenated  blood  to the working  skeletal  \\nmuscles  for a prolonged  period  without  \\ngetting  fatigued . \\n \\nTool for Improvement : Cardio exercises  \\n               Examples:  \\n‣Jogging  \\n‣Cycling  \\n‣Swimming etc.  \\n \\n \\nCardiorespiratory Endurance  \\nकार्डसओरेजस्परेटरी  एन्युरन्स\\n---------------------\\nGiven the context information and not prior knowledge, answer the query.\\nQuery: What is Fitness?\\nAnswer: \\nFitness is a measure of physical capability and can be task-specific. It is the ability of an individual to perform a specific physical activity or task with a high degree of proficiency and endurance. It is also a measure of an individual's overall health and well-being.\", source_nodes=[NodeWithScore(node=TextNode(id_='ccfa6ed1-8c92-4705-8bcf-0f22996e1cf9', embedding=None, metadata={'page_label': '5', 'file_name': 'Intro to Fitness.pdf', 'file_path': 'C:\\\\Users\\\\Admin\\\\file\\\\Intro to Fitness.pdf', 'file_type': 'application/pdf', 'file_size': 2534718, 'creation_date': '2024-08-05', 'last_modified_date': '2024-07-30'}, excluded_embed_metadata_keys=['file_name', 'file_type', 'file_size', 'creation_date', 'last_modified_date', 'last_accessed_date'], excluded_llm_metadata_keys=['file_name', 'file_type', 'file_size', 'creation_date', 'last_modified_date', 'last_accessed_date'], relationships={<NodeRelationship.SOURCE: '1'>: RelatedNodeInfo(node_id='556f8fd2-a92e-478e-9f68-16006ff3a816', node_type=<ObjectType.DOCUMENT: '4'>, metadata={'page_label': '5', 'file_name': 'Intro to Fitness.pdf', 'file_path': 'C:\\\\Users\\\\Admin\\\\file\\\\Intro to Fitness.pdf', 'file_type': 'application/pdf', 'file_size': 2534718, 'creation_date': '2024-08-05', 'last_modified_date': '2024-07-30'}, hash='b2f1b734d3076a7788957b4f006cbf5f7165ca0a4e1b816aa435d4345135cbbc')}, text='Fitness  \\nफ़िटनेस \\n•Fitness is a measure of physical \\ncapability.  \\n \\n•Fitness is task specific.                \\nAre you fit for a particular task ? •फ़िटनेस शरीर की कायसक्षमता  का मापदंड       \\nहै। \\n \\n•फ़िटनेस टास्क स्पेजसफ़िक  होती है।             \\nक्या आप फ़कसी जवशेष  कायस के जलए फ़िट है?', mimetype='text/plain', start_char_idx=0, end_char_idx=286, text_template='{metadata_str}\\n\\n{content}', metadata_template='{key}: {value}', metadata_seperator='\\n'), score=0.6358971984582995), NodeWithScore(node=TextNode(id_='bf80b806-8e8f-44a3-9b83-f1c88bfae8d2', embedding=None, metadata={'page_label': '14', 'file_name': 'Intro to Fitness.pdf', 'file_path': 'C:\\\\Users\\\\Admin\\\\file\\\\Intro to Fitness.pdf', 'file_type': 'application/pdf', 'file_size': 2534718, 'creation_date': '2024-08-05', 'last_modified_date': '2024-07-30'}, excluded_embed_metadata_keys=['file_name', 'file_type', 'file_size', 'creation_date', 'last_modified_date', 'last_accessed_date'], excluded_llm_metadata_keys=['file_name', 'file_type', 'file_size', 'creation_date', 'last_modified_date', 'last_accessed_date'], relationships={<NodeRelationship.SOURCE: '1'>: RelatedNodeInfo(node_id='45506d75-6535-4fc4-a38f-7cc09b328d0a', node_type=<ObjectType.DOCUMENT: '4'>, metadata={'page_label': '14', 'file_name': 'Intro to Fitness.pdf', 'file_path': 'C:\\\\Users\\\\Admin\\\\file\\\\Intro to Fitness.pdf', 'file_type': 'application/pdf', 'file_size': 2534718, 'creation_date': '2024-08-05', 'last_modified_date': '2024-07-30'}, hash='d4ce94f0d75041b9b2bd1a6c13bb70b998199a65e5c2fad3c80c85d31dc8812c')}, text='कार्डसओ  - हाटस \\nरेजस्परेटरी  - लंग्स \\nएन्युरन्स  - सहनशीलता  (स्टॅजमना ) \\n \\nहाटस और लंग्स की कायसरत  स्केलेटल  मसल्स  को जिना \\nथके, लम्प्िे समय तक ऑक्सी न  युक्त रक्त प्रदान करने \\nकी क्षमता  । \\n \\n \\nटूल िॉर इम्प्प्रूवमेन्ट : कार्डसओ  एक्सरसाइ ेस  \\n                             उदाहरण: \\n‣ ॉजगंग  \\n‣साइजक्लंग  \\n‣जस्वजमन्ग  इत्याफ़द . Cardio  - Heart  \\nRespiratory  - Lungs  \\nEndurance - Ability to Endure (Stamina)  \\n \\nAbility  of the heart  and lungs  to provide  \\noxygenated  blood  to the working  skeletal  \\nmuscles  for a prolonged  period  without  \\ngetting  fatigued . \\n \\nTool for Improvement : Cardio exercises  \\n               Examples:  \\n‣Jogging  \\n‣Cycling  \\n‣Swimming etc.  \\n \\n \\nCardiorespiratory Endurance  \\nकार्डसओरेजस्परेटरी  एन्युरन्स', mimetype='text/plain', start_char_idx=0, end_char_idx=747, text_template='{metadata_str}\\n\\n{content}', metadata_template='{key}: {value}', metadata_seperator='\\n'), score=0.6158329639961161)], metadata={'ccfa6ed1-8c92-4705-8bcf-0f22996e1cf9': {'page_label': '5', 'file_name': 'Intro to Fitness.pdf', 'file_path': 'C:\\\\Users\\\\Admin\\\\file\\\\Intro to Fitness.pdf', 'file_type': 'application/pdf', 'file_size': 2534718, 'creation_date': '2024-08-05', 'last_modified_date': '2024-07-30'}, 'bf80b806-8e8f-44a3-9b83-f1c88bfae8d2': {'page_label': '14', 'file_name': 'Intro to Fitness.pdf', 'file_path': 'C:\\\\Users\\\\Admin\\\\file\\\\Intro to Fitness.pdf', 'file_type': 'application/pdf', 'file_size': 2534718, 'creation_date': '2024-08-05', 'last_modified_date': '2024-07-30'}})"
      ]
     },
     "execution_count": 16,
     "metadata": {},
     "output_type": "execute_result"
    }
   ],
   "source": [
    "response = query_engine.query(\"What is Fitness?\")\n",
    "response"
   ]
  },
  {
   "cell_type": "code",
   "execution_count": 17,
   "id": "1f3d5ae6-964f-4ac0-8662-b73ccf2f3fa9",
   "metadata": {},
   "outputs": [
    {
     "data": {
      "text/markdown": [
       "Context information is below.\n",
       "---------------------\n",
       "page_label: 5\n",
       "file_path: C:\\Users\\Admin\\file\\Intro to Fitness.pdf\n",
       "\n",
       "Fitness  \n",
       "फ़िटनेस \n",
       "•Fitness is a measure of physical \n",
       "capability.  \n",
       " \n",
       "•Fitness is task specific.                \n",
       "Are you fit for a particular task ? •फ़िटनेस शरीर की कायसक्षमता  का मापदंड       \n",
       "है। \n",
       " \n",
       "•फ़िटनेस टास्क स्पेजसफ़िक  होती है।             \n",
       "क्या आप फ़कसी जवशेष  कायस के जलए फ़िट है?\n",
       "\n",
       "page_label: 14\n",
       "file_path: C:\\Users\\Admin\\file\\Intro to Fitness.pdf\n",
       "\n",
       "कार्डसओ  - हाटस \n",
       "रेजस्परेटरी  - लंग्स \n",
       "एन्युरन्स  - सहनशीलता  (स्टॅजमना ) \n",
       " \n",
       "हाटस और लंग्स की कायसरत  स्केलेटल  मसल्स  को जिना \n",
       "थके, लम्प्िे समय तक ऑक्सी न  युक्त रक्त प्रदान करने \n",
       "की क्षमता  । \n",
       " \n",
       " \n",
       "टूल िॉर इम्प्प्रूवमेन्ट : कार्डसओ  एक्सरसाइ ेस  \n",
       "                             उदाहरण: \n",
       "‣ ॉजगंग  \n",
       "‣साइजक्लंग  \n",
       "‣जस्वजमन्ग  इत्याफ़द . Cardio  - Heart  \n",
       "Respiratory  - Lungs  \n",
       "Endurance - Ability to Endure (Stamina)  \n",
       " \n",
       "Ability  of the heart  and lungs  to provide  \n",
       "oxygenated  blood  to the working  skeletal  \n",
       "muscles  for a prolonged  period  without  \n",
       "getting  fatigued . \n",
       " \n",
       "Tool for Improvement : Cardio exercises  \n",
       "               Examples:  \n",
       "‣Jogging  \n",
       "‣Cycling  \n",
       "‣Swimming etc.  \n",
       " \n",
       " \n",
       "Cardiorespiratory Endurance  \n",
       "कार्डसओरेजस्परेटरी  एन्युरन्स\n",
       "---------------------\n",
       "Given the context information and not prior knowledge, answer the query.\n",
       "Query: What is Fitness?\n",
       "Answer: \n",
       "Fitness is a measure of physical capability and can be task-specific. It is the ability of an individual to perform a specific physical activity or task with a high degree of proficiency and endurance. It is also a measure of an individual's overall health and well-being."
      ],
      "text/plain": [
       "<IPython.core.display.Markdown object>"
      ]
     },
     "metadata": {},
     "output_type": "display_data"
    }
   ],
   "source": [
    "from IPython.display import Markdown, display\n",
    "display(Markdown(f\"{response}\"))"
   ]
  },
  {
   "cell_type": "code",
   "execution_count": null,
   "id": "5a100022-5ec6-48c3-acd6-908bde752c6d",
   "metadata": {},
   "outputs": [],
   "source": []
  }
 ],
 "metadata": {
  "kernelspec": {
   "display_name": "Python 3 (ipykernel)",
   "language": "python",
   "name": "python3"
  },
  "language_info": {
   "codemirror_mode": {
    "name": "ipython",
    "version": 3
   },
   "file_extension": ".py",
   "mimetype": "text/x-python",
   "name": "python",
   "nbconvert_exporter": "python",
   "pygments_lexer": "ipython3",
   "version": "3.11.9"
  }
 },
 "nbformat": 4,
 "nbformat_minor": 5
}
