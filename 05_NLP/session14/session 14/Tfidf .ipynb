{
 "cells": [
  {
   "cell_type": "code",
   "execution_count": 1,
   "id": "2e8788e3",
   "metadata": {},
   "outputs": [],
   "source": [
    "from sklearn.feature_extraction.text import TfidfVectorizer\n",
    "import pandas as pds"
   ]
  },
  {
   "cell_type": "code",
   "execution_count": 2,
   "id": "3b4339fc",
   "metadata": {},
   "outputs": [],
   "source": [
    "A1 = 'hello and welcome dosto'\n",
    "A2 = 'shri love NLP'\n",
    "A3 = 'shri is good boy'"
   ]
  },
  {
   "cell_type": "code",
   "execution_count": 3,
   "id": "8416329e",
   "metadata": {},
   "outputs": [
    {
     "name": "stdout",
     "output_type": "stream",
     "text": [
      "        boy    dosto      good    hello      love       nlp     shri  welcome\n",
      "0  0.000000  0.57735  0.000000  0.57735  0.000000  0.000000  0.00000  0.57735\n",
      "1  0.000000  0.00000  0.000000  0.00000  0.622766  0.622766  0.47363  0.00000\n",
      "2  0.622766  0.00000  0.622766  0.00000  0.000000  0.000000  0.47363  0.00000\n"
     ]
    }
   ],
   "source": [
    "vectorizer = TfidfVectorizer(stop_words='english')\n",
    "vectors = vectorizer.fit_transform([A1,A2,A3])\n",
    "feature_names = vectorizer.get_feature_names_out()\n",
    "dense = vectors.todense()\n",
    "\n",
    "result = pd.DataFrame(dense, columns=feature_names)\n",
    "\n",
    "print(result)"
   ]
  },
  {
   "cell_type": "code",
   "execution_count": null,
   "id": "9ebef880",
   "metadata": {},
   "outputs": [],
   "source": []
  }
 ],
 "metadata": {
  "kernelspec": {
   "display_name": "Python 3 (ipykernel)",
   "language": "python",
   "name": "python3"
  },
  "language_info": {
   "codemirror_mode": {
    "name": "ipython",
    "version": 3
   },
   "file_extension": ".py",
   "mimetype": "text/x-python",
   "name": "python",
   "nbconvert_exporter": "python",
   "pygments_lexer": "ipython3",
   "version": "3.9.13"
  }
 },
 "nbformat": 4,
 "nbformat_minor": 5
}
