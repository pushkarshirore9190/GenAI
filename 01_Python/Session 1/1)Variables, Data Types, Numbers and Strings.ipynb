{
 "cells": [
  {
   "cell_type": "markdown",
   "id": "5a3c13df",
   "metadata": {},
   "source": [
    "Variables"
   ]
  },
  {
   "cell_type": "code",
   "execution_count": 33,
   "id": "44554865",
   "metadata": {},
   "outputs": [
    {
     "data": {
      "text/plain": [
       "5"
      ]
     },
     "execution_count": 33,
     "metadata": {},
     "output_type": "execute_result"
    }
   ],
   "source": [
    "a = 5\n",
    "a"
   ]
  },
  {
   "cell_type": "code",
   "execution_count": 34,
   "id": "2a08c85e",
   "metadata": {},
   "outputs": [
    {
     "data": {
      "text/plain": [
       "5"
      ]
     },
     "execution_count": 34,
     "metadata": {},
     "output_type": "execute_result"
    }
   ],
   "source": [
    "b = 'Shridhar'\n",
    "b\n",
    "a"
   ]
  },
  {
   "cell_type": "code",
   "execution_count": 3,
   "id": "124c12a9",
   "metadata": {},
   "outputs": [
    {
     "data": {
      "text/plain": [
       "'Shridhar'"
      ]
     },
     "execution_count": 3,
     "metadata": {},
     "output_type": "execute_result"
    }
   ],
   "source": [
    "c = \"Shridhar\"\n",
    "c"
   ]
  },
  {
   "cell_type": "code",
   "execution_count": 4,
   "id": "a247ef55",
   "metadata": {},
   "outputs": [
    {
     "name": "stdout",
     "output_type": "stream",
     "text": [
      "5\n",
      "Shridhar\n"
     ]
    }
   ],
   "source": [
    "print(a)\n",
    "print(b)"
   ]
  },
  {
   "cell_type": "code",
   "execution_count": 5,
   "id": "79894260",
   "metadata": {},
   "outputs": [
    {
     "name": "stdout",
     "output_type": "stream",
     "text": [
      "5\n",
      "5\n",
      "5.0\n"
     ]
    }
   ],
   "source": [
    "x = str(5)    \n",
    "y = int(5)    \n",
    "z = float(5)\n",
    "\n",
    "print(x)\n",
    "print(y)\n",
    "print(z)"
   ]
  },
  {
   "cell_type": "code",
   "execution_count": 6,
   "id": "8d63e0bb",
   "metadata": {},
   "outputs": [
    {
     "name": "stdout",
     "output_type": "stream",
     "text": [
      "<class 'str'>\n",
      "<class 'int'>\n",
      "<class 'float'>\n"
     ]
    }
   ],
   "source": [
    "print(type(x))\n",
    "print(type(y))\n",
    "print(type(z))"
   ]
  },
  {
   "cell_type": "code",
   "execution_count": 7,
   "id": "f6d65e41",
   "metadata": {},
   "outputs": [],
   "source": [
    "p = 'Shridhar'\n",
    "P = 'Mankar'"
   ]
  },
  {
   "cell_type": "code",
   "execution_count": 8,
   "id": "1f4fcd50",
   "metadata": {},
   "outputs": [
    {
     "name": "stdout",
     "output_type": "stream",
     "text": [
      "Shridhar\n",
      "Mankar\n"
     ]
    }
   ],
   "source": [
    "print(p)\n",
    "print(P)"
   ]
  },
  {
   "cell_type": "code",
   "execution_count": 9,
   "id": "5beacf65",
   "metadata": {},
   "outputs": [
    {
     "name": "stdout",
     "output_type": "stream",
     "text": [
      "Shridhar Mankar\n"
     ]
    }
   ],
   "source": [
    "print(p + ' ' + P)"
   ]
  },
  {
   "cell_type": "code",
   "execution_count": 10,
   "id": "92068e7e",
   "metadata": {},
   "outputs": [
    {
     "name": "stdout",
     "output_type": "stream",
     "text": [
      "10\n"
     ]
    }
   ],
   "source": [
    "print(a+y)"
   ]
  },
  {
   "cell_type": "code",
   "execution_count": 11,
   "id": "cbbd34ce",
   "metadata": {},
   "outputs": [
    {
     "ename": "TypeError",
     "evalue": "unsupported operand type(s) for +: 'int' and 'str'",
     "output_type": "error",
     "traceback": [
      "\u001b[0;31m---------------------------------------------------------------------------\u001b[0m",
      "\u001b[0;31mTypeError\u001b[0m                                 Traceback (most recent call last)",
      "\u001b[0;32m/var/folders/m0/4t6ggwz51774ll_46v6qgz3h0000gn/T/ipykernel_12305/1083478837.py\u001b[0m in \u001b[0;36m<module>\u001b[0;34m\u001b[0m\n\u001b[0;32m----> 1\u001b[0;31m \u001b[0mprint\u001b[0m\u001b[0;34m(\u001b[0m\u001b[0ma\u001b[0m\u001b[0;34m+\u001b[0m\u001b[0mb\u001b[0m\u001b[0;34m)\u001b[0m\u001b[0;34m\u001b[0m\u001b[0;34m\u001b[0m\u001b[0m\n\u001b[0m",
      "\u001b[0;31mTypeError\u001b[0m: unsupported operand type(s) for +: 'int' and 'str'"
     ]
    }
   ],
   "source": [
    "print(a+b)"
   ]
  },
  {
   "cell_type": "code",
   "execution_count": 12,
   "id": "ff61c74b",
   "metadata": {},
   "outputs": [],
   "source": [
    "variable = 5\n",
    "vari_able = 5\n",
    "_variable = 5\n",
    "Variable = 5\n",
    "VARIABLE = 5\n",
    "variable5 = 5"
   ]
  },
  {
   "cell_type": "code",
   "execution_count": 13,
   "id": "c66147d4",
   "metadata": {},
   "outputs": [
    {
     "ename": "SyntaxError",
     "evalue": "invalid syntax (3299328541.py, line 1)",
     "output_type": "error",
     "traceback": [
      "\u001b[0;36m  File \u001b[0;32m\"/var/folders/m0/4t6ggwz51774ll_46v6qgz3h0000gn/T/ipykernel_12305/3299328541.py\"\u001b[0;36m, line \u001b[0;32m1\u001b[0m\n\u001b[0;31m    5variable = 5\u001b[0m\n\u001b[0m     ^\u001b[0m\n\u001b[0;31mSyntaxError\u001b[0m\u001b[0;31m:\u001b[0m invalid syntax\n"
     ]
    }
   ],
   "source": [
    "5variable = 5"
   ]
  },
  {
   "cell_type": "code",
   "execution_count": 14,
   "id": "a06a50c2",
   "metadata": {},
   "outputs": [
    {
     "ename": "SyntaxError",
     "evalue": "cannot assign to operator (225172146.py, line 1)",
     "output_type": "error",
     "traceback": [
      "\u001b[0;36m  File \u001b[0;32m\"/var/folders/m0/4t6ggwz51774ll_46v6qgz3h0000gn/T/ipykernel_12305/225172146.py\"\u001b[0;36m, line \u001b[0;32m1\u001b[0m\n\u001b[0;31m    vari-able = 5\u001b[0m\n\u001b[0m    ^\u001b[0m\n\u001b[0;31mSyntaxError\u001b[0m\u001b[0;31m:\u001b[0m cannot assign to operator\n"
     ]
    }
   ],
   "source": [
    "vari-able = 5"
   ]
  },
  {
   "cell_type": "code",
   "execution_count": 15,
   "id": "5adfe82c",
   "metadata": {},
   "outputs": [
    {
     "ename": "SyntaxError",
     "evalue": "invalid syntax (3601564415.py, line 1)",
     "output_type": "error",
     "traceback": [
      "\u001b[0;36m  File \u001b[0;32m\"/var/folders/m0/4t6ggwz51774ll_46v6qgz3h0000gn/T/ipykernel_12305/3601564415.py\"\u001b[0;36m, line \u001b[0;32m1\u001b[0m\n\u001b[0;31m    var$able = 5\u001b[0m\n\u001b[0m       ^\u001b[0m\n\u001b[0;31mSyntaxError\u001b[0m\u001b[0;31m:\u001b[0m invalid syntax\n"
     ]
    }
   ],
   "source": [
    "var$able = 5"
   ]
  },
  {
   "cell_type": "code",
   "execution_count": 16,
   "id": "be7e776f",
   "metadata": {},
   "outputs": [
    {
     "ename": "SyntaxError",
     "evalue": "invalid syntax (1683983009.py, line 1)",
     "output_type": "error",
     "traceback": [
      "\u001b[0;36m  File \u001b[0;32m\"/var/folders/m0/4t6ggwz51774ll_46v6qgz3h0000gn/T/ipykernel_12305/1683983009.py\"\u001b[0;36m, line \u001b[0;32m1\u001b[0m\n\u001b[0;31m    vari able =5\u001b[0m\n\u001b[0m         ^\u001b[0m\n\u001b[0;31mSyntaxError\u001b[0m\u001b[0;31m:\u001b[0m invalid syntax\n"
     ]
    }
   ],
   "source": [
    "vari able =5"
   ]
  },
  {
   "cell_type": "code",
   "execution_count": 17,
   "id": "c40ef506",
   "metadata": {},
   "outputs": [],
   "source": [
    "Variable1,Variable2,Variable3  = '1','2','3' "
   ]
  },
  {
   "cell_type": "code",
   "execution_count": 18,
   "id": "49f164a4",
   "metadata": {},
   "outputs": [
    {
     "name": "stdout",
     "output_type": "stream",
     "text": [
      "1\n",
      "2\n",
      "3\n"
     ]
    }
   ],
   "source": [
    "print(Variable1)\n",
    "print(Variable2)\n",
    "print(Variable3)"
   ]
  },
  {
   "cell_type": "code",
   "execution_count": 19,
   "id": "789fa5b4",
   "metadata": {},
   "outputs": [],
   "source": [
    "Variable1=Variable2=Variable3 = 5"
   ]
  },
  {
   "cell_type": "code",
   "execution_count": 20,
   "id": "df40b1d8",
   "metadata": {},
   "outputs": [
    {
     "name": "stdout",
     "output_type": "stream",
     "text": [
      "5\n",
      "5\n",
      "5\n"
     ]
    }
   ],
   "source": [
    "print(Variable1)\n",
    "print(Variable2)\n",
    "print(Variable3)"
   ]
  },
  {
   "cell_type": "markdown",
   "id": "737330ef",
   "metadata": {},
   "source": [
    "Datatypes"
   ]
  },
  {
   "cell_type": "code",
   "execution_count": 21,
   "id": "60f7a19b",
   "metadata": {},
   "outputs": [],
   "source": [
    "x1 = 5\n",
    "x2 = 'shridhar'\n",
    "x3 = 5.0\n",
    "x4 = True\n",
    "x5 = 5j\n",
    "x6 = [1,2,3]\n",
    "x7 = {1,2,3}\n",
    "x8 = (1,2,3)\n",
    "x9 = {'naam' : 'shridhar', 'kaam' : 'Students ki help karna'}\n",
    "x10 = None"
   ]
  },
  {
   "cell_type": "code",
   "execution_count": 22,
   "id": "8a80d646",
   "metadata": {},
   "outputs": [
    {
     "name": "stdout",
     "output_type": "stream",
     "text": [
      "<class 'int'>\n",
      "<class 'str'>\n",
      "<class 'float'>\n",
      "<class 'bool'>\n",
      "<class 'complex'>\n",
      "<class 'list'>\n",
      "<class 'set'>\n",
      "<class 'tuple'>\n",
      "<class 'dict'>\n",
      "<class 'NoneType'>\n"
     ]
    }
   ],
   "source": [
    "print(type(x1))\n",
    "print(type(x2))\n",
    "print(type(x3))\n",
    "print(type(x4))\n",
    "print(type(x5))\n",
    "print(type(x6))\n",
    "print(type(x7))\n",
    "print(type(x8))\n",
    "print(type(x9))\n",
    "print(type(x10))"
   ]
  },
  {
   "cell_type": "markdown",
   "id": "65f47eb7",
   "metadata": {},
   "source": [
    "Numbers"
   ]
  },
  {
   "cell_type": "code",
   "execution_count": 28,
   "id": "10e987db",
   "metadata": {},
   "outputs": [],
   "source": [
    "num1 = 5\n",
    "num2 = -5\n",
    "num3 = 5555555555555555555555555\n",
    "num4 = 5555555555555555555555555555555555555555555555555555555555555555555555555555555555555555555555555555555555555"
   ]
  },
  {
   "cell_type": "code",
   "execution_count": 29,
   "id": "bb4b5cb9",
   "metadata": {},
   "outputs": [
    {
     "name": "stdout",
     "output_type": "stream",
     "text": [
      "76\n",
      "36\n",
      "28\n"
     ]
    }
   ],
   "source": [
    "import sys\n",
    "print(sys.getsizeof(num4))\n",
    "print(sys.getsizeof(num3))\n",
    "print(sys.getsizeof(num1))"
   ]
  },
  {
   "cell_type": "code",
   "execution_count": 30,
   "id": "3df47b15",
   "metadata": {},
   "outputs": [
    {
     "name": "stdout",
     "output_type": "stream",
     "text": [
      "<class 'int'>\n",
      "<class 'int'>\n",
      "<class 'int'>\n"
     ]
    }
   ],
   "source": [
    "print(type(num1))\n",
    "print(type(num2))\n",
    "print(type(num3))"
   ]
  },
  {
   "cell_type": "code",
   "execution_count": 31,
   "id": "85fc4746",
   "metadata": {},
   "outputs": [],
   "source": [
    "float1 = 5.0\n",
    "float2 = -5.5\n",
    "float3 = 123e4"
   ]
  },
  {
   "cell_type": "code",
   "execution_count": 32,
   "id": "c4ddbf2e",
   "metadata": {},
   "outputs": [
    {
     "name": "stdout",
     "output_type": "stream",
     "text": [
      "<class 'float'>\n",
      "<class 'float'>\n",
      "<class 'float'>\n"
     ]
    }
   ],
   "source": [
    "print(type(float1))\n",
    "print(type(float2))\n",
    "print(type(float3))"
   ]
  },
  {
   "cell_type": "code",
   "execution_count": 33,
   "id": "b773db97",
   "metadata": {},
   "outputs": [],
   "source": [
    "com1 = 0+1j\n",
    "com2 = 5j\n",
    "com3 = 1+2j\n",
    "com4 = -5j"
   ]
  },
  {
   "cell_type": "code",
   "execution_count": 34,
   "id": "fe783856",
   "metadata": {},
   "outputs": [
    {
     "name": "stdout",
     "output_type": "stream",
     "text": [
      "<class 'complex'>\n",
      "<class 'complex'>\n",
      "<class 'complex'>\n",
      "<class 'complex'>\n"
     ]
    }
   ],
   "source": [
    "print(type(com1))\n",
    "print(type(com2))\n",
    "print(type(com3))\n",
    "print(type(com4))"
   ]
  },
  {
   "cell_type": "code",
   "execution_count": 35,
   "id": "b9f9fd18",
   "metadata": {},
   "outputs": [
    {
     "ename": "TypeError",
     "evalue": "can't convert complex to int",
     "output_type": "error",
     "traceback": [
      "\u001b[0;31m---------------------------------------------------------------------------\u001b[0m",
      "\u001b[0;31mTypeError\u001b[0m                                 Traceback (most recent call last)",
      "\u001b[0;32m/var/folders/m0/4t6ggwz51774ll_46v6qgz3h0000gn/T/ipykernel_12305/1682505834.py\u001b[0m in \u001b[0;36m<module>\u001b[0;34m\u001b[0m\n\u001b[1;32m      1\u001b[0m \u001b[0mint1\u001b[0m \u001b[0;34m=\u001b[0m \u001b[0mint\u001b[0m\u001b[0;34m(\u001b[0m\u001b[0mfloat1\u001b[0m\u001b[0;34m)\u001b[0m\u001b[0;34m\u001b[0m\u001b[0;34m\u001b[0m\u001b[0m\n\u001b[0;32m----> 2\u001b[0;31m \u001b[0mint2\u001b[0m \u001b[0;34m=\u001b[0m \u001b[0mint\u001b[0m\u001b[0;34m(\u001b[0m\u001b[0mcom1\u001b[0m\u001b[0;34m)\u001b[0m\u001b[0;34m\u001b[0m\u001b[0;34m\u001b[0m\u001b[0m\n\u001b[0m",
      "\u001b[0;31mTypeError\u001b[0m: can't convert complex to int"
     ]
    }
   ],
   "source": [
    "int1 = int(float1)\n",
    "int2 = int(com1)"
   ]
  },
  {
   "cell_type": "code",
   "execution_count": 36,
   "id": "68bdb4de",
   "metadata": {},
   "outputs": [],
   "source": [
    "complex1 = complex(num1)"
   ]
  },
  {
   "cell_type": "code",
   "execution_count": 37,
   "id": "c3574ede",
   "metadata": {},
   "outputs": [
    {
     "data": {
      "text/plain": [
       "(5+0j)"
      ]
     },
     "execution_count": 37,
     "metadata": {},
     "output_type": "execute_result"
    }
   ],
   "source": [
    "complex1"
   ]
  },
  {
   "cell_type": "markdown",
   "id": "69c65c8b",
   "metadata": {},
   "source": [
    "Strings"
   ]
  },
  {
   "cell_type": "code",
   "execution_count": 38,
   "id": "edf419f5",
   "metadata": {},
   "outputs": [
    {
     "name": "stdout",
     "output_type": "stream",
     "text": [
      "Hello and welcome dosto\n",
      "to 5 minutes engineering,\n",
      "aaj ka session bada kamal ka hone wala hai\n"
     ]
    }
   ],
   "source": [
    "X = '''Hello and welcome dosto\n",
    "to 5 minutes engineering,\n",
    "aaj ka session bada kamal ka hone wala hai'''\n",
    "print(X)"
   ]
  },
  {
   "cell_type": "code",
   "execution_count": 39,
   "id": "df40c8fc",
   "metadata": {},
   "outputs": [
    {
     "name": "stdout",
     "output_type": "stream",
     "text": [
      "Hello and welcome dosto\n",
      "to 5 minutes engineering,\n",
      "aaj ka session bada kamal ka hone wala hai\n"
     ]
    }
   ],
   "source": [
    "Y = \"\"\"Hello and welcome dosto\n",
    "to 5 minutes engineering,\n",
    "aaj ka session bada kamal ka hone wala hai\"\"\"\n",
    "print(Y)"
   ]
  },
  {
   "cell_type": "code",
   "execution_count": 40,
   "id": "03b28daf",
   "metadata": {},
   "outputs": [
    {
     "name": "stdout",
     "output_type": "stream",
     "text": [
      "s\n",
      "h\n",
      "r\n",
      "i\n",
      "d\n",
      "h\n",
      "a\n",
      "r\n"
     ]
    }
   ],
   "source": [
    "Z = 'shridhar'\n",
    "print(Z[0])\n",
    "print(Z[1])\n",
    "print(Z[2])\n",
    "print(Z[3])\n",
    "print(Z[4])\n",
    "print(Z[5])\n",
    "print(Z[6])\n",
    "print(Z[7])\n"
   ]
  },
  {
   "cell_type": "code",
   "execution_count": 41,
   "id": "966b842f",
   "metadata": {},
   "outputs": [
    {
     "name": "stdout",
     "output_type": "stream",
     "text": [
      "8\n"
     ]
    }
   ],
   "source": [
    "print(len(Z))"
   ]
  },
  {
   "cell_type": "code",
   "execution_count": 42,
   "id": "527b689c",
   "metadata": {},
   "outputs": [
    {
     "name": "stdout",
     "output_type": "stream",
     "text": [
      "92\n"
     ]
    }
   ],
   "source": [
    "print(len(X))"
   ]
  },
  {
   "cell_type": "code",
   "execution_count": 43,
   "id": "0534c92a",
   "metadata": {},
   "outputs": [
    {
     "name": "stdout",
     "output_type": "stream",
     "text": [
      "False\n"
     ]
    }
   ],
   "source": [
    "print('Hello' not in X)"
   ]
  },
  {
   "cell_type": "code",
   "execution_count": 44,
   "id": "b9c39123",
   "metadata": {},
   "outputs": [
    {
     "name": "stdout",
     "output_type": "stream",
     "text": [
      "True\n"
     ]
    }
   ],
   "source": [
    "print('Hllo' not in X)"
   ]
  },
  {
   "cell_type": "code",
   "execution_count": null,
   "id": "ba77c759",
   "metadata": {},
   "outputs": [],
   "source": []
  }
 ],
 "metadata": {
  "kernelspec": {
   "display_name": "Python 3 (ipykernel)",
   "language": "python",
   "name": "python3"
  },
  "language_info": {
   "codemirror_mode": {
    "name": "ipython",
    "version": 3
   },
   "file_extension": ".py",
   "mimetype": "text/x-python",
   "name": "python",
   "nbconvert_exporter": "python",
   "pygments_lexer": "ipython3",
   "version": "3.9.13"
  }
 },
 "nbformat": 4,
 "nbformat_minor": 5
}
