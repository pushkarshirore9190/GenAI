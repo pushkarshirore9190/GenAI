{
 "cells": [
  {
   "cell_type": "code",
   "execution_count": 1,
   "id": "aecb8ae5",
   "metadata": {},
   "outputs": [],
   "source": [
    "import numpy as np\n",
    "x = [10,20,30,30,45,50,55,60,70,80]"
   ]
  },
  {
   "cell_type": "code",
   "execution_count": 9,
   "id": "0dd404f7",
   "metadata": {},
   "outputs": [
    {
     "data": {
      "text/plain": [
       "45.0"
      ]
     },
     "execution_count": 9,
     "metadata": {},
     "output_type": "execute_result"
    }
   ],
   "source": [
    "np.mean(x)"
   ]
  },
  {
   "cell_type": "code",
   "execution_count": 11,
   "id": "a7b71086",
   "metadata": {},
   "outputs": [
    {
     "data": {
      "text/plain": [
       "47.5"
      ]
     },
     "execution_count": 11,
     "metadata": {},
     "output_type": "execute_result"
    }
   ],
   "source": [
    "np.median(x)"
   ]
  },
  {
   "cell_type": "code",
   "execution_count": 13,
   "id": "da2b8120",
   "metadata": {},
   "outputs": [
    {
     "data": {
      "text/plain": [
       "array([30.  , 47.5 , 58.75, 80.  ])"
      ]
     },
     "execution_count": 13,
     "metadata": {},
     "output_type": "execute_result"
    }
   ],
   "source": [
    "np.percentile(x, [25,50,75,100])"
   ]
  },
  {
   "cell_type": "code",
   "execution_count": 7,
   "id": "6a4c4e80",
   "metadata": {},
   "outputs": [
    {
     "data": {
      "text/plain": [
       "21.213203435596427"
      ]
     },
     "execution_count": 7,
     "metadata": {},
     "output_type": "execute_result"
    }
   ],
   "source": [
    "np.std(x)"
   ]
  },
  {
   "cell_type": "code",
   "execution_count": 8,
   "id": "5b8a0597",
   "metadata": {},
   "outputs": [
    {
     "data": {
      "text/plain": [
       "450.0"
      ]
     },
     "execution_count": 8,
     "metadata": {},
     "output_type": "execute_result"
    }
   ],
   "source": [
    "np.var(x)"
   ]
  },
  {
   "cell_type": "code",
   "execution_count": null,
   "id": "aed36714",
   "metadata": {},
   "outputs": [],
   "source": []
  }
 ],
 "metadata": {
  "kernelspec": {
   "display_name": "Python 3 (ipykernel)",
   "language": "python",
   "name": "python3"
  },
  "language_info": {
   "codemirror_mode": {
    "name": "ipython",
    "version": 3
   },
   "file_extension": ".py",
   "mimetype": "text/x-python",
   "name": "python",
   "nbconvert_exporter": "python",
   "pygments_lexer": "ipython3",
   "version": "3.9.13"
  }
 },
 "nbformat": 4,
 "nbformat_minor": 5
}
