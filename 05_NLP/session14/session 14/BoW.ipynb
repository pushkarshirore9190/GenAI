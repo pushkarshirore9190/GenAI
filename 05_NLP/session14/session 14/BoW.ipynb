{
 "cells": [
  {
   "cell_type": "code",
   "execution_count": 4,
   "id": "67d360ac",
   "metadata": {},
   "outputs": [],
   "source": [
    "from sklearn.feature_extraction.text import CountVectorizer\n",
    "import pandas as pd"
   ]
  },
  {
   "cell_type": "code",
   "execution_count": 5,
   "id": "bf417ba3",
   "metadata": {},
   "outputs": [],
   "source": [
    "A1 = 'hello and welcome dosto' \n",
    "A2 = 'shri love NLP' \n",
    "A3 = 'shri is good boy'"
   ]
  },
  {
   "cell_type": "code",
   "execution_count": 7,
   "id": "65b8f424",
   "metadata": {},
   "outputs": [
    {
     "name": "stdout",
     "output_type": "stream",
     "text": [
      "   boy  dosto  good  hello  love  nlp  shri  welcome\n",
      "0    0      1     0      1     0    0     0        1\n",
      "1    0      0     0      0     1    1     1        0\n",
      "2    1      0     1      0     0    0     1        0\n"
     ]
    }
   ],
   "source": [
    "vectorizer = CountVectorizer(stop_words='english')\n",
    "vectors = vectorizer.fit_transform([A1,A2,A3])\n",
    "feature_names = vectorizer.get_feature_names_out()\n",
    "dense = vectors.todense()\n",
    "\n",
    "result = pd.DataFrame(dense, columns=feature_names)\n",
    "\n",
    "print(result)"
   ]
  },
  {
   "cell_type": "code",
   "execution_count": null,
   "id": "02a047a7",
   "metadata": {},
   "outputs": [],
   "source": []
  }
 ],
 "metadata": {
  "kernelspec": {
   "display_name": "Python 3 (ipykernel)",
   "language": "python",
   "name": "python3"
  },
  "language_info": {
   "codemirror_mode": {
    "name": "ipython",
    "version": 3
   },
   "file_extension": ".py",
   "mimetype": "text/x-python",
   "name": "python",
   "nbconvert_exporter": "python",
   "pygments_lexer": "ipython3",
   "version": "3.9.13"
  }
 },
 "nbformat": 4,
 "nbformat_minor": 5
}
