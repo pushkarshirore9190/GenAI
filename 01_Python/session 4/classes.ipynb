{
 "cells": [
  {
   "cell_type": "code",
   "execution_count": 1,
   "id": "c9c95ebd",
   "metadata": {},
   "outputs": [
    {
     "name": "stdout",
     "output_type": "stream",
     "text": [
      "<__main__.class1 object at 0x7f9c99b128b0>\n",
      "shridhar\n",
      "1\n"
     ]
    }
   ],
   "source": [
    "class class1:\n",
    "    v1 = \"shridhar\"\n",
    "    v2 = 1\n",
    "\n",
    "obj1 = class1()\n",
    "print(obj1)\n",
    "print(obj1.v1)\n",
    "print(obj1.v2)"
   ]
  },
  {
   "cell_type": "code",
   "execution_count": 2,
   "id": "96b741b1",
   "metadata": {},
   "outputs": [
    {
     "name": "stdout",
     "output_type": "stream",
     "text": [
      "shridhar\n",
      "Rajendra\n"
     ]
    }
   ],
   "source": [
    "obj2 = class1()\n",
    "print(obj2.v1)\n",
    "obj2.v1 = \"Rajendra\"\n",
    "print(obj2.v1)"
   ]
  },
  {
   "cell_type": "code",
   "execution_count": 3,
   "id": "a8e4f33e",
   "metadata": {},
   "outputs": [
    {
     "name": "stdout",
     "output_type": "stream",
     "text": [
      "name--> shridhar\n",
      "name--> Rajendra\n"
     ]
    }
   ],
   "source": [
    "class class2:\n",
    "    name = \"shridhar\"\n",
    "    roll_no = 1\n",
    "\n",
    "    def abc(self):\n",
    "        print(\"name-->\",self.name)\n",
    "\n",
    "obj11 = class2()\n",
    "obj11.abc()\n",
    "obj11.name = \"Rajendra\"\n",
    "obj11.abc()"
   ]
  },
  {
   "cell_type": "code",
   "execution_count": 4,
   "id": "eb4424f9",
   "metadata": {},
   "outputs": [
    {
     "name": "stdout",
     "output_type": "stream",
     "text": [
      "Manisha\n",
      "name--> Manisha\n"
     ]
    }
   ],
   "source": [
    "class class3:\n",
    "    def __init__(self,name):\n",
    "        self.name = name\n",
    "\n",
    "    roll_no = 1\n",
    "\n",
    "    def abc(self):\n",
    "        print(\"name-->\",self.name)\n",
    "\n",
    "obj111 = class3(\"Manisha\")\n",
    "print(obj111.name)\n",
    "obj111.abc()"
   ]
  },
  {
   "cell_type": "code",
   "execution_count": null,
   "id": "156faf4b",
   "metadata": {},
   "outputs": [],
   "source": []
  }
 ],
 "metadata": {
  "kernelspec": {
   "display_name": "Python 3 (ipykernel)",
   "language": "python",
   "name": "python3"
  },
  "language_info": {
   "codemirror_mode": {
    "name": "ipython",
    "version": 3
   },
   "file_extension": ".py",
   "mimetype": "text/x-python",
   "name": "python",
   "nbconvert_exporter": "python",
   "pygments_lexer": "ipython3",
   "version": "3.9.13"
  }
 },
 "nbformat": 4,
 "nbformat_minor": 5
}
