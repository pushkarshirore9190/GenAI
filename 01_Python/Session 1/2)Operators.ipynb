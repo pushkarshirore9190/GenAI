{
 "cells": [
  {
   "cell_type": "markdown",
   "id": "8ff746fb",
   "metadata": {},
   "source": [
    "Arithemetic Operators"
   ]
  },
  {
   "cell_type": "code",
   "execution_count": 1,
   "id": "625cc6bb",
   "metadata": {},
   "outputs": [],
   "source": [
    "a = 5\n",
    "b = 2"
   ]
  },
  {
   "cell_type": "code",
   "execution_count": 2,
   "id": "44418a68",
   "metadata": {},
   "outputs": [
    {
     "name": "stdout",
     "output_type": "stream",
     "text": [
      "7\n"
     ]
    }
   ],
   "source": [
    "print(a+b)"
   ]
  },
  {
   "cell_type": "code",
   "execution_count": 3,
   "id": "b2dce96d",
   "metadata": {},
   "outputs": [
    {
     "name": "stdout",
     "output_type": "stream",
     "text": [
      "3\n"
     ]
    }
   ],
   "source": [
    "print(a-b)"
   ]
  },
  {
   "cell_type": "code",
   "execution_count": 4,
   "id": "b270d2d3",
   "metadata": {},
   "outputs": [
    {
     "name": "stdout",
     "output_type": "stream",
     "text": [
      "10\n"
     ]
    }
   ],
   "source": [
    "print(a * b)"
   ]
  },
  {
   "cell_type": "code",
   "execution_count": 5,
   "id": "e446a3dd",
   "metadata": {},
   "outputs": [
    {
     "name": "stdout",
     "output_type": "stream",
     "text": [
      "2.5\n"
     ]
    }
   ],
   "source": [
    "print(a/b)"
   ]
  },
  {
   "cell_type": "code",
   "execution_count": 6,
   "id": "1e45a6de",
   "metadata": {},
   "outputs": [
    {
     "name": "stdout",
     "output_type": "stream",
     "text": [
      "1\n"
     ]
    }
   ],
   "source": [
    "print(a % b)"
   ]
  },
  {
   "cell_type": "code",
   "execution_count": 7,
   "id": "015996d1",
   "metadata": {},
   "outputs": [
    {
     "name": "stdout",
     "output_type": "stream",
     "text": [
      "25\n"
     ]
    }
   ],
   "source": [
    "print(a**b)"
   ]
  },
  {
   "cell_type": "markdown",
   "id": "3baa083f",
   "metadata": {},
   "source": [
    "Comparison Operators"
   ]
  },
  {
   "cell_type": "code",
   "execution_count": 8,
   "id": "2e2e7963",
   "metadata": {},
   "outputs": [
    {
     "data": {
      "text/plain": [
       "False"
      ]
     },
     "execution_count": 8,
     "metadata": {},
     "output_type": "execute_result"
    }
   ],
   "source": [
    "a==b"
   ]
  },
  {
   "cell_type": "code",
   "execution_count": 9,
   "id": "f371b24b",
   "metadata": {},
   "outputs": [
    {
     "data": {
      "text/plain": [
       "True"
      ]
     },
     "execution_count": 9,
     "metadata": {},
     "output_type": "execute_result"
    }
   ],
   "source": [
    "a!=b"
   ]
  },
  {
   "cell_type": "code",
   "execution_count": 10,
   "id": "fef58354",
   "metadata": {},
   "outputs": [
    {
     "data": {
      "text/plain": [
       "False"
      ]
     },
     "execution_count": 10,
     "metadata": {},
     "output_type": "execute_result"
    }
   ],
   "source": [
    "a<b"
   ]
  },
  {
   "cell_type": "code",
   "execution_count": 11,
   "id": "b7f64bfa",
   "metadata": {},
   "outputs": [
    {
     "data": {
      "text/plain": [
       "True"
      ]
     },
     "execution_count": 11,
     "metadata": {},
     "output_type": "execute_result"
    }
   ],
   "source": [
    "a>b"
   ]
  },
  {
   "cell_type": "code",
   "execution_count": 12,
   "id": "59e97e99",
   "metadata": {},
   "outputs": [
    {
     "data": {
      "text/plain": [
       "False"
      ]
     },
     "execution_count": 12,
     "metadata": {},
     "output_type": "execute_result"
    }
   ],
   "source": [
    "a<=b"
   ]
  },
  {
   "cell_type": "code",
   "execution_count": 13,
   "id": "b5e9fac3",
   "metadata": {},
   "outputs": [
    {
     "data": {
      "text/plain": [
       "True"
      ]
     },
     "execution_count": 13,
     "metadata": {},
     "output_type": "execute_result"
    }
   ],
   "source": [
    "a>=b"
   ]
  },
  {
   "cell_type": "markdown",
   "id": "defa9977",
   "metadata": {},
   "source": [
    "Assignment Operators"
   ]
  },
  {
   "cell_type": "code",
   "execution_count": 14,
   "id": "b65d14d7",
   "metadata": {},
   "outputs": [
    {
     "name": "stdout",
     "output_type": "stream",
     "text": [
      "100\n"
     ]
    }
   ],
   "source": [
    "c = 100\n",
    "print(c)"
   ]
  },
  {
   "cell_type": "code",
   "execution_count": 15,
   "id": "ab8ffab8",
   "metadata": {},
   "outputs": [
    {
     "name": "stdout",
     "output_type": "stream",
     "text": [
      "200\n"
     ]
    }
   ],
   "source": [
    "c += 100   c = c + 100\n",
    "print(c)"
   ]
  },
  {
   "cell_type": "code",
   "execution_count": 16,
   "id": "e2106ae0",
   "metadata": {},
   "outputs": [
    {
     "name": "stdout",
     "output_type": "stream",
     "text": [
      "100\n"
     ]
    }
   ],
   "source": [
    "c -= 100\n",
    "print(c)"
   ]
  },
  {
   "cell_type": "code",
   "execution_count": 17,
   "id": "3a9caa02",
   "metadata": {},
   "outputs": [
    {
     "name": "stdout",
     "output_type": "stream",
     "text": [
      "10000\n"
     ]
    }
   ],
   "source": [
    "c *= 100\n",
    "print(c)"
   ]
  },
  {
   "cell_type": "code",
   "execution_count": 18,
   "id": "401ceec3",
   "metadata": {},
   "outputs": [
    {
     "name": "stdout",
     "output_type": "stream",
     "text": [
      "100.0\n"
     ]
    }
   ],
   "source": [
    "c /= 100\n",
    "print(c)"
   ]
  },
  {
   "cell_type": "code",
   "execution_count": 19,
   "id": "395f6220",
   "metadata": {},
   "outputs": [
    {
     "name": "stdout",
     "output_type": "stream",
     "text": [
      "0.0\n"
     ]
    }
   ],
   "source": [
    "c %= 100\n",
    "print(c)"
   ]
  },
  {
   "cell_type": "code",
   "execution_count": 20,
   "id": "292afddf",
   "metadata": {},
   "outputs": [
    {
     "name": "stdout",
     "output_type": "stream",
     "text": [
      "10\n"
     ]
    }
   ],
   "source": [
    "z = 10\n",
    "print(z)"
   ]
  },
  {
   "cell_type": "code",
   "execution_count": 21,
   "id": "b081e092",
   "metadata": {},
   "outputs": [
    {
     "name": "stdout",
     "output_type": "stream",
     "text": [
      "100\n"
     ]
    }
   ],
   "source": [
    "z **= 2\n",
    "print(z)"
   ]
  },
  {
   "cell_type": "markdown",
   "id": "c3699211",
   "metadata": {},
   "source": [
    "Logical Operators"
   ]
  },
  {
   "cell_type": "code",
   "execution_count": 24,
   "id": "481fe532",
   "metadata": {},
   "outputs": [
    {
     "name": "stdout",
     "output_type": "stream",
     "text": [
      "True\n"
     ]
    }
   ],
   "source": [
    "x = 10\n",
    "print(x>5 and x<20)"
   ]
  },
  {
   "cell_type": "code",
   "execution_count": 25,
   "id": "7cc62ec1",
   "metadata": {},
   "outputs": [
    {
     "name": "stdout",
     "output_type": "stream",
     "text": [
      "False\n"
     ]
    }
   ],
   "source": [
    "print(x>5 and x<6)"
   ]
  },
  {
   "cell_type": "code",
   "execution_count": 26,
   "id": "bfba34aa",
   "metadata": {},
   "outputs": [
    {
     "name": "stdout",
     "output_type": "stream",
     "text": [
      "True\n"
     ]
    }
   ],
   "source": [
    "print(x>5 or x<6)"
   ]
  },
  {
   "cell_type": "code",
   "execution_count": 27,
   "id": "d722a684",
   "metadata": {},
   "outputs": [
    {
     "name": "stdout",
     "output_type": "stream",
     "text": [
      "False\n"
     ]
    }
   ],
   "source": [
    "print(x>10 and x<20)"
   ]
  },
  {
   "cell_type": "code",
   "execution_count": 28,
   "id": "f0a3721d",
   "metadata": {},
   "outputs": [
    {
     "name": "stdout",
     "output_type": "stream",
     "text": [
      "True\n"
     ]
    }
   ],
   "source": [
    "print(not(x>10 and x<20))"
   ]
  },
  {
   "cell_type": "code",
   "execution_count": 29,
   "id": "5d9dbf2a",
   "metadata": {},
   "outputs": [
    {
     "name": "stdout",
     "output_type": "stream",
     "text": [
      "False\n"
     ]
    }
   ],
   "source": [
    "print(not(x>5 and x<20))"
   ]
  },
  {
   "cell_type": "markdown",
   "id": "b3f70cbe",
   "metadata": {},
   "source": [
    "Bitwise Operators"
   ]
  },
  {
   "cell_type": "code",
   "execution_count": 30,
   "id": "8dac9e3c",
   "metadata": {},
   "outputs": [],
   "source": [
    "m = 10  1010     010100  101000\n",
    "n = 4   0100\n",
    "128 64 32 16 8 4 2 1 "
   ]
  },
  {
   "cell_type": "code",
   "execution_count": 31,
   "id": "8dfa6e7f",
   "metadata": {},
   "outputs": [
    {
     "name": "stdout",
     "output_type": "stream",
     "text": [
      "0\n"
     ]
    }
   ],
   "source": [
    "print(m & n)          0000"
   ]
  },
  {
   "cell_type": "code",
   "execution_count": 32,
   "id": "e0b0d1d9",
   "metadata": {},
   "outputs": [
    {
     "name": "stdout",
     "output_type": "stream",
     "text": [
      "14\n"
     ]
    }
   ],
   "source": [
    "print(m | n)   (01,10,11)=1 ... 00=0         1110    "
   ]
  },
  {
   "cell_type": "code",
   "execution_count": 33,
   "id": "6c9c5331",
   "metadata": {},
   "outputs": [
    {
     "name": "stdout",
     "output_type": "stream",
     "text": [
      "14\n"
     ]
    }
   ],
   "source": [
    "print(m ^ n) (01,10)=1...(00,11)=0      1110"
   ]
  },
  {
   "cell_type": "code",
   "execution_count": 34,
   "id": "ece2d361",
   "metadata": {},
   "outputs": [
    {
     "name": "stdout",
     "output_type": "stream",
     "text": [
      "2\n"
     ]
    }
   ],
   "source": [
    "print(m >> 2) 1010->>> 0101 ->>>   0010"
   ]
  },
  {
   "cell_type": "code",
   "execution_count": 35,
   "id": "b8831f82",
   "metadata": {},
   "outputs": [
    {
     "name": "stdout",
     "output_type": "stream",
     "text": [
      "40\n"
     ]
    }
   ],
   "source": [
    "print(m << 2) 0000 1010\n",
    "              0001 0100\n",
    "              0010 1000"
   ]
  }
 ],
 "metadata": {
  "kernelspec": {
   "display_name": "Python 3 (ipykernel)",
   "language": "python",
   "name": "python3"
  },
  "language_info": {
   "codemirror_mode": {
    "name": "ipython",
    "version": 3
   },
   "file_extension": ".py",
   "mimetype": "text/x-python",
   "name": "python",
   "nbconvert_exporter": "python",
   "pygments_lexer": "ipython3",
   "version": "3.9.13"
  }
 },
 "nbformat": 4,
 "nbformat_minor": 5
}
